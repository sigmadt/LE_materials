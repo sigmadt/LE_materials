{
 "cells": [
  {
   "cell_type": "markdown",
   "metadata": {},
   "source": [
    "# How we prepare our data for research project"
   ]
  },
  {
   "cell_type": "markdown",
   "metadata": {},
   "source": [
    "# Imports"
   ]
  },
  {
   "cell_type": "code",
   "execution_count": 54,
   "metadata": {},
   "outputs": [],
   "source": [
    "import pickle\n",
    "import numpy as np\n",
    "import pandas as pd\n",
    "from scipy.sparse import hstack\n",
    "%config InlineBackend.figure_format = 'svg'"
   ]
  },
  {
   "cell_type": "code",
   "execution_count": 55,
   "metadata": {},
   "outputs": [],
   "source": [
    "import warnings\n",
    "warnings.filterwarnings(\"ignore\")"
   ]
  },
  {
   "cell_type": "markdown",
   "metadata": {},
   "source": [
    "# Read data"
   ]
  },
  {
   "cell_type": "code",
   "execution_count": 56,
   "metadata": {},
   "outputs": [],
   "source": [
    "df = pd.read_stata('/Users/sayfulindmitry/Downloads/Working file 2015.dta')"
   ]
  },
  {
   "cell_type": "code",
   "execution_count": 57,
   "metadata": {},
   "outputs": [
    {
     "data": {
      "text/html": [
       "<div>\n",
       "<style scoped>\n",
       "    .dataframe tbody tr th:only-of-type {\n",
       "        vertical-align: middle;\n",
       "    }\n",
       "\n",
       "    .dataframe tbody tr th {\n",
       "        vertical-align: top;\n",
       "    }\n",
       "\n",
       "    .dataframe thead th {\n",
       "        text-align: right;\n",
       "    }\n",
       "</style>\n",
       "<table border=\"1\" class=\"dataframe\">\n",
       "  <thead>\n",
       "    <tr style=\"text-align: right;\">\n",
       "      <th></th>\n",
       "      <th>regionx</th>\n",
       "      <th>familyx</th>\n",
       "      <th>personx</th>\n",
       "      <th>round</th>\n",
       "      <th>sitex</th>\n",
       "      <th>tid</th>\n",
       "      <th>inadult</th>\n",
       "      <th>inmoverx</th>\n",
       "      <th>inwgt_x</th>\n",
       "      <th>ixgender</th>\n",
       "      <th>...</th>\n",
       "      <th>HOHCAT_X</th>\n",
       "      <th>HHHEAD_X</th>\n",
       "      <th>LFPART_X</th>\n",
       "      <th>HASJOB_X</th>\n",
       "      <th>WNOPAY_X</th>\n",
       "      <th>FLEAVE_X</th>\n",
       "      <th>UNEM_B_X</th>\n",
       "      <th>UNEM_G_X</th>\n",
       "      <th>UNEM_S_X</th>\n",
       "      <th>UN_DUR_X</th>\n",
       "    </tr>\n",
       "  </thead>\n",
       "  <tbody>\n",
       "    <tr>\n",
       "      <th>0</th>\n",
       "      <td>116</td>\n",
       "      <td>503</td>\n",
       "      <td>5</td>\n",
       "      <td>24</td>\n",
       "      <td>116</td>\n",
       "      <td>116050305</td>\n",
       "      <td>1</td>\n",
       "      <td>1</td>\n",
       "      <td>0.000000</td>\n",
       "      <td>1</td>\n",
       "      <td>...</td>\n",
       "      <td>NaN</td>\n",
       "      <td>NaN</td>\n",
       "      <td>NaN</td>\n",
       "      <td>NaN</td>\n",
       "      <td>NaN</td>\n",
       "      <td>NaN</td>\n",
       "      <td>NaN</td>\n",
       "      <td>NaN</td>\n",
       "      <td>NaN</td>\n",
       "      <td>NaN</td>\n",
       "    </tr>\n",
       "    <tr>\n",
       "      <th>1</th>\n",
       "      <td>52</td>\n",
       "      <td>93</td>\n",
       "      <td>1</td>\n",
       "      <td>24</td>\n",
       "      <td>52</td>\n",
       "      <td>52009301</td>\n",
       "      <td>1</td>\n",
       "      <td>1</td>\n",
       "      <td>0.000000</td>\n",
       "      <td>2</td>\n",
       "      <td>...</td>\n",
       "      <td>NaN</td>\n",
       "      <td>NaN</td>\n",
       "      <td>NaN</td>\n",
       "      <td>NaN</td>\n",
       "      <td>NaN</td>\n",
       "      <td>NaN</td>\n",
       "      <td>NaN</td>\n",
       "      <td>NaN</td>\n",
       "      <td>NaN</td>\n",
       "      <td>NaN</td>\n",
       "    </tr>\n",
       "    <tr>\n",
       "      <th>2</th>\n",
       "      <td>116</td>\n",
       "      <td>6014</td>\n",
       "      <td>5</td>\n",
       "      <td>24</td>\n",
       "      <td>116</td>\n",
       "      <td>116601405</td>\n",
       "      <td>1</td>\n",
       "      <td>1</td>\n",
       "      <td>0.000000</td>\n",
       "      <td>1</td>\n",
       "      <td>...</td>\n",
       "      <td>NaN</td>\n",
       "      <td>NaN</td>\n",
       "      <td>NaN</td>\n",
       "      <td>NaN</td>\n",
       "      <td>NaN</td>\n",
       "      <td>NaN</td>\n",
       "      <td>NaN</td>\n",
       "      <td>NaN</td>\n",
       "      <td>NaN</td>\n",
       "      <td>NaN</td>\n",
       "    </tr>\n",
       "    <tr>\n",
       "      <th>3</th>\n",
       "      <td>52</td>\n",
       "      <td>132</td>\n",
       "      <td>7</td>\n",
       "      <td>24</td>\n",
       "      <td>52</td>\n",
       "      <td>52013207</td>\n",
       "      <td>1</td>\n",
       "      <td>0</td>\n",
       "      <td>1.074508</td>\n",
       "      <td>1</td>\n",
       "      <td>...</td>\n",
       "      <td>NaN</td>\n",
       "      <td>NaN</td>\n",
       "      <td>NaN</td>\n",
       "      <td>NaN</td>\n",
       "      <td>NaN</td>\n",
       "      <td>NaN</td>\n",
       "      <td>NaN</td>\n",
       "      <td>NaN</td>\n",
       "      <td>NaN</td>\n",
       "      <td>NaN</td>\n",
       "    </tr>\n",
       "    <tr>\n",
       "      <th>4</th>\n",
       "      <td>89</td>\n",
       "      <td>5023</td>\n",
       "      <td>3</td>\n",
       "      <td>24</td>\n",
       "      <td>89</td>\n",
       "      <td>89502303</td>\n",
       "      <td>1</td>\n",
       "      <td>1</td>\n",
       "      <td>0.000000</td>\n",
       "      <td>2</td>\n",
       "      <td>...</td>\n",
       "      <td>NaN</td>\n",
       "      <td>NaN</td>\n",
       "      <td>NaN</td>\n",
       "      <td>NaN</td>\n",
       "      <td>NaN</td>\n",
       "      <td>NaN</td>\n",
       "      <td>NaN</td>\n",
       "      <td>NaN</td>\n",
       "      <td>NaN</td>\n",
       "      <td>NaN</td>\n",
       "    </tr>\n",
       "  </tbody>\n",
       "</table>\n",
       "<p>5 rows × 742 columns</p>\n",
       "</div>"
      ],
      "text/plain": [
       "   regionx  familyx  personx  round  sitex        tid  inadult  inmoverx  \\\n",
       "0      116      503        5     24    116  116050305        1         1   \n",
       "1       52       93        1     24     52   52009301        1         1   \n",
       "2      116     6014        5     24    116  116601405        1         1   \n",
       "3       52      132        7     24     52   52013207        1         0   \n",
       "4       89     5023        3     24     89   89502303        1         1   \n",
       "\n",
       "    inwgt_x  ixgender  ...  HOHCAT_X  HHHEAD_X  LFPART_X  HASJOB_X  WNOPAY_X  \\\n",
       "0  0.000000         1  ...       NaN       NaN       NaN       NaN       NaN   \n",
       "1  0.000000         2  ...       NaN       NaN       NaN       NaN       NaN   \n",
       "2  0.000000         1  ...       NaN       NaN       NaN       NaN       NaN   \n",
       "3  1.074508         1  ...       NaN       NaN       NaN       NaN       NaN   \n",
       "4  0.000000         2  ...       NaN       NaN       NaN       NaN       NaN   \n",
       "\n",
       "   FLEAVE_X  UNEM_B_X  UNEM_G_X  UNEM_S_X  UN_DUR_X  \n",
       "0       NaN       NaN       NaN       NaN       NaN  \n",
       "1       NaN       NaN       NaN       NaN       NaN  \n",
       "2       NaN       NaN       NaN       NaN       NaN  \n",
       "3       NaN       NaN       NaN       NaN       NaN  \n",
       "4       NaN       NaN       NaN       NaN       NaN  \n",
       "\n",
       "[5 rows x 742 columns]"
      ]
     },
     "execution_count": 57,
     "metadata": {},
     "output_type": "execute_result"
    }
   ],
   "source": [
    "df.head()"
   ]
  },
  {
   "cell_type": "markdown",
   "metadata": {},
   "source": [
    "# Wage"
   ]
  },
  {
   "cell_type": "markdown",
   "metadata": {},
   "source": [
    "### Variables\n",
    "1. Education <br>\n",
    "'ixgrdlev', 'ixhighsc', 'ixhiedul' <br>\n",
    "сколько, есть ли диплом, уровень <br>\n",
    "50, 5000, 500 <br>\n",
    "2. Age <br>\n",
    "'ixbirthy' <br>\n",
    "год рождения <br>\n",
    "0 <br> \n",
    "3. Region <br>\n",
    "'regionx' <br>\n",
    "4. Gender <br>\n",
    "'ixgender' <br>\n",
    "5. Health <br>\n",
    "'ixmiswil'  <br>\n",
    "пропускали ли по болезни <br>\n",
    "90\n",
    "6. Official <br>\n",
    "'ixpjreg', 'ixjpayof' <br>\n",
    "устроен, проводка денег <br>\n",
    "7300, 7000\n",
    "7. Married <br>\n",
    "'ixmarist' <br>\n",
    "брак, 6 вариантов <br>\n",
    "30\n",
    "8. Experience <br>\n",
    "'ixtgempy' <br>\n",
    "опыт в годах <br>\n",
    "2000\n",
    "9. Work <br>\n",
    "'ixpjoblm', 'ixhourlm' <br>\n",
    "офис, часы <br>\n",
    "6500, 7800\n",
    "9. Salary <br>\n",
    "'ixpjpayt', 'ixwagelm' <br>\n",
    "ср чистая з/п в месяц за последний год; чистая з/п за последний месяц <br>\n",
    "7700, 7100"
   ]
  },
  {
   "cell_type": "code",
   "execution_count": 143,
   "metadata": {},
   "outputs": [],
   "source": [
    "wage_vars = ['ixgrdlev', 'ixhighsc', 'ixhiedul'] + \\\n",
    "            ['ixbirthy'] + ['regionx'] + ['ixgender'] + \\\n",
    "            ['ixmiswil'] + ['ixpjreg', 'ixjpayof', 'ixdisabl', 'ixdclass'] + \\\n",
    "            ['ixmarist'] + ['ixtgempy'] + ['ixpjoblm', 'ixhourlm'] + ['ixpjpayt', 'ixwagelm', 'ixinclmo'] + \\\n",
    "            ['ixkids', 'ixnykids']"
   ]
  },
  {
   "cell_type": "code",
   "execution_count": 144,
   "metadata": {},
   "outputs": [],
   "source": [
    "wage_df = df[wage_vars]\n",
    "col_rename = ['ed_years', 'ed_dip', 'grad'] + \\\n",
    "             ['age'] + ['fo'] + ['male'] + \\\n",
    "             ['ill'] + ['hired_of', 'pay_of', 'disabled', 'dis'] + \\\n",
    "             ['married'] + ['exp'] + ['work', 'hour_month'] + ['mean_wage', 'last_wage', 'sum_wage'] + \\\n",
    "             ['ixkids', 'n_kids']\n",
    "wage_df.columns = col_rename\n",
    "wage_df['age'] = 2015 - wage_df['age']\n",
    "wage_df['age_sq'] = wage_df['age'] ** 2\n",
    "wage_df['kids'] = 0\n",
    "wage_df.loc[wage_df['n_kids'] > 0, 'kids'] = 1\n",
    "wage_df.loc[wage_df['ixkids'] == 2, 'n_kids'] = 0\n",
    "wage_df.drop(columns=['ixkids'], inplace=True)"
   ]
  },
  {
   "cell_type": "code",
   "execution_count": 145,
   "metadata": {},
   "outputs": [
    {
     "data": {
      "text/html": [
       "<div>\n",
       "<style scoped>\n",
       "    .dataframe tbody tr th:only-of-type {\n",
       "        vertical-align: middle;\n",
       "    }\n",
       "\n",
       "    .dataframe tbody tr th {\n",
       "        vertical-align: top;\n",
       "    }\n",
       "\n",
       "    .dataframe thead th {\n",
       "        text-align: right;\n",
       "    }\n",
       "</style>\n",
       "<table border=\"1\" class=\"dataframe\">\n",
       "  <thead>\n",
       "    <tr style=\"text-align: right;\">\n",
       "      <th></th>\n",
       "      <th>ed_years</th>\n",
       "      <th>ed_dip</th>\n",
       "      <th>grad</th>\n",
       "      <th>age</th>\n",
       "      <th>fo</th>\n",
       "      <th>male</th>\n",
       "      <th>ill</th>\n",
       "      <th>hired_of</th>\n",
       "      <th>pay_of</th>\n",
       "      <th>disabled</th>\n",
       "      <th>...</th>\n",
       "      <th>married</th>\n",
       "      <th>exp</th>\n",
       "      <th>work</th>\n",
       "      <th>hour_month</th>\n",
       "      <th>mean_wage</th>\n",
       "      <th>last_wage</th>\n",
       "      <th>sum_wage</th>\n",
       "      <th>n_kids</th>\n",
       "      <th>age_sq</th>\n",
       "      <th>kids</th>\n",
       "    </tr>\n",
       "  </thead>\n",
       "  <tbody>\n",
       "    <tr>\n",
       "      <th>0</th>\n",
       "      <td>11.0</td>\n",
       "      <td>1.0</td>\n",
       "      <td>12.0</td>\n",
       "      <td>36</td>\n",
       "      <td>116</td>\n",
       "      <td>1</td>\n",
       "      <td>1.0</td>\n",
       "      <td>1.0</td>\n",
       "      <td>1.0</td>\n",
       "      <td>2.0</td>\n",
       "      <td>...</td>\n",
       "      <td>2.0</td>\n",
       "      <td>12.0</td>\n",
       "      <td>1.0</td>\n",
       "      <td>160.0</td>\n",
       "      <td>30000.0</td>\n",
       "      <td>30000.0</td>\n",
       "      <td>30000.0</td>\n",
       "      <td>2.0</td>\n",
       "      <td>1296</td>\n",
       "      <td>1</td>\n",
       "    </tr>\n",
       "    <tr>\n",
       "      <th>1</th>\n",
       "      <td>10.0</td>\n",
       "      <td>1.0</td>\n",
       "      <td>6.0</td>\n",
       "      <td>56</td>\n",
       "      <td>52</td>\n",
       "      <td>2</td>\n",
       "      <td>2.0</td>\n",
       "      <td>1.0</td>\n",
       "      <td>1.0</td>\n",
       "      <td>2.0</td>\n",
       "      <td>...</td>\n",
       "      <td>4.0</td>\n",
       "      <td>36.0</td>\n",
       "      <td>1.0</td>\n",
       "      <td>464.0</td>\n",
       "      <td>NaN</td>\n",
       "      <td>10000.0</td>\n",
       "      <td>16200.0</td>\n",
       "      <td>0.0</td>\n",
       "      <td>3136</td>\n",
       "      <td>0</td>\n",
       "    </tr>\n",
       "    <tr>\n",
       "      <th>2</th>\n",
       "      <td>9.0</td>\n",
       "      <td>NaN</td>\n",
       "      <td>5.0</td>\n",
       "      <td>20</td>\n",
       "      <td>116</td>\n",
       "      <td>1</td>\n",
       "      <td>2.0</td>\n",
       "      <td>NaN</td>\n",
       "      <td>NaN</td>\n",
       "      <td>2.0</td>\n",
       "      <td>...</td>\n",
       "      <td>2.0</td>\n",
       "      <td>99999996.0</td>\n",
       "      <td>NaN</td>\n",
       "      <td>NaN</td>\n",
       "      <td>NaN</td>\n",
       "      <td>NaN</td>\n",
       "      <td>30000.0</td>\n",
       "      <td>1.0</td>\n",
       "      <td>400</td>\n",
       "      <td>1</td>\n",
       "    </tr>\n",
       "    <tr>\n",
       "      <th>3</th>\n",
       "      <td>9.0</td>\n",
       "      <td>NaN</td>\n",
       "      <td>3.0</td>\n",
       "      <td>37</td>\n",
       "      <td>52</td>\n",
       "      <td>1</td>\n",
       "      <td>2.0</td>\n",
       "      <td>1.0</td>\n",
       "      <td>99999997.0</td>\n",
       "      <td>2.0</td>\n",
       "      <td>...</td>\n",
       "      <td>2.0</td>\n",
       "      <td>0.0</td>\n",
       "      <td>1.0</td>\n",
       "      <td>150.0</td>\n",
       "      <td>30000.0</td>\n",
       "      <td>27000.0</td>\n",
       "      <td>32000.0</td>\n",
       "      <td>2.0</td>\n",
       "      <td>1369</td>\n",
       "      <td>1</td>\n",
       "    </tr>\n",
       "    <tr>\n",
       "      <th>4</th>\n",
       "      <td>11.0</td>\n",
       "      <td>1.0</td>\n",
       "      <td>10.0</td>\n",
       "      <td>25</td>\n",
       "      <td>89</td>\n",
       "      <td>2</td>\n",
       "      <td>2.0</td>\n",
       "      <td>1.0</td>\n",
       "      <td>1.0</td>\n",
       "      <td>2.0</td>\n",
       "      <td>...</td>\n",
       "      <td>1.0</td>\n",
       "      <td>2.0</td>\n",
       "      <td>2.0</td>\n",
       "      <td>NaN</td>\n",
       "      <td>50000.0</td>\n",
       "      <td>25000.0</td>\n",
       "      <td>25000.0</td>\n",
       "      <td>0.0</td>\n",
       "      <td>625</td>\n",
       "      <td>0</td>\n",
       "    </tr>\n",
       "  </tbody>\n",
       "</table>\n",
       "<p>5 rows × 21 columns</p>\n",
       "</div>"
      ],
      "text/plain": [
       "   ed_years  ed_dip  grad  age   fo  male  ill  hired_of      pay_of  \\\n",
       "0      11.0     1.0  12.0   36  116     1  1.0       1.0         1.0   \n",
       "1      10.0     1.0   6.0   56   52     2  2.0       1.0         1.0   \n",
       "2       9.0     NaN   5.0   20  116     1  2.0       NaN         NaN   \n",
       "3       9.0     NaN   3.0   37   52     1  2.0       1.0  99999997.0   \n",
       "4      11.0     1.0  10.0   25   89     2  2.0       1.0         1.0   \n",
       "\n",
       "   disabled  ...  married         exp  work  hour_month  mean_wage  last_wage  \\\n",
       "0       2.0  ...      2.0        12.0   1.0       160.0    30000.0    30000.0   \n",
       "1       2.0  ...      4.0        36.0   1.0       464.0        NaN    10000.0   \n",
       "2       2.0  ...      2.0  99999996.0   NaN         NaN        NaN        NaN   \n",
       "3       2.0  ...      2.0         0.0   1.0       150.0    30000.0    27000.0   \n",
       "4       2.0  ...      1.0         2.0   2.0         NaN    50000.0    25000.0   \n",
       "\n",
       "   sum_wage  n_kids  age_sq  kids  \n",
       "0   30000.0     2.0    1296     1  \n",
       "1   16200.0     0.0    3136     0  \n",
       "2   30000.0     1.0     400     1  \n",
       "3   32000.0     2.0    1369     1  \n",
       "4   25000.0     0.0     625     0  \n",
       "\n",
       "[5 rows x 21 columns]"
      ]
     },
     "execution_count": 145,
     "metadata": {},
     "output_type": "execute_result"
    }
   ],
   "source": [
    "wage_df.head()"
   ]
  },
  {
   "cell_type": "code",
   "execution_count": 146,
   "metadata": {},
   "outputs": [
    {
     "data": {
      "text/plain": [
       "ed_years         58\n",
       "ed_dip         5629\n",
       "grad            597\n",
       "age               0\n",
       "fo                0\n",
       "male              0\n",
       "ill              88\n",
       "hired_of       7314\n",
       "pay_of         6927\n",
       "disabled          3\n",
       "dis           13071\n",
       "married          34\n",
       "exp            2149\n",
       "work           6592\n",
       "hour_month     7801\n",
       "mean_wage      7765\n",
       "last_wage      7154\n",
       "sum_wage        401\n",
       "n_kids           13\n",
       "age_sq            0\n",
       "kids              0\n",
       "dtype: int64"
      ]
     },
     "execution_count": 146,
     "metadata": {},
     "output_type": "execute_result"
    }
   ],
   "source": [
    "wage_df.isna().sum()"
   ]
  },
  {
   "cell_type": "markdown",
   "metadata": {},
   "source": [
    "### Male & ill & pay_of"
   ]
  },
  {
   "cell_type": "code",
   "execution_count": 147,
   "metadata": {},
   "outputs": [],
   "source": [
    "base_dict = {1: 1, 2: 0, 3: 0, 5: 1}\n",
    "wage_df['male'] = wage_df['male'].map(base_dict)\n",
    "wage_df['female'] = -1 * wage_df['male'] + 1\n",
    "wage_df['ill'] = wage_df['ill'].map(base_dict)\n",
    "wage_df['pay_of'] = wage_df['pay_of'].map(base_dict)\n",
    "wage_df['work'] = wage_df['work'].map(base_dict)\n",
    "wage_df['disabled'] = wage_df['disabled'].map(base_dict).fillna(0)"
   ]
  },
  {
   "cell_type": "markdown",
   "metadata": {},
   "source": [
    "### Region"
   ]
  },
  {
   "cell_type": "code",
   "execution_count": 148,
   "metadata": {},
   "outputs": [],
   "source": [
    "reg_list = [[1, 89, 105, 141], [9, 39, 129, 137], [52, 77], \\\n",
    "[10, 12, 45, 47, 48, 70, 100, 116, 117], [46, 86, 106, 107], [58, 66, 71, 73, 84, 161], [92, 93]]"
   ]
  },
  {
   "cell_type": "code",
   "execution_count": 149,
   "metadata": {},
   "outputs": [],
   "source": [
    "reg_dict = {}\n",
    "for i in range(len(reg_list)):\n",
    "    for num in reg_list[i]:\n",
    "        reg_dict[num] = i+2"
   ]
  },
  {
   "cell_type": "code",
   "execution_count": 150,
   "metadata": {},
   "outputs": [],
   "source": [
    "wage_df['fo'] = wage_df['fo'].map(reg_dict)\n",
    "wage_df['fo'] = wage_df['fo'].fillna(0)\n",
    "wage_df['fo'] = wage_df['fo'].astype('int')"
   ]
  },
  {
   "cell_type": "code",
   "execution_count": 151,
   "metadata": {},
   "outputs": [],
   "source": [
    "reg_dict2 = {0:'center', 2: 'center',\n",
    "             3: 'south', 4: 'south',\n",
    "             5: 'privolzh', \n",
    "            6: 'ural',\n",
    "            7: 'trans-urals', 8: 'trans-urals'}\n",
    "wage_df['fo'] = wage_df['fo'].map(reg_dict2)"
   ]
  },
  {
   "cell_type": "code",
   "execution_count": 152,
   "metadata": {},
   "outputs": [
    {
     "data": {
      "text/html": [
       "<div>\n",
       "<style scoped>\n",
       "    .dataframe tbody tr th:only-of-type {\n",
       "        vertical-align: middle;\n",
       "    }\n",
       "\n",
       "    .dataframe tbody tr th {\n",
       "        vertical-align: top;\n",
       "    }\n",
       "\n",
       "    .dataframe thead th {\n",
       "        text-align: right;\n",
       "    }\n",
       "</style>\n",
       "<table border=\"1\" class=\"dataframe\">\n",
       "  <thead>\n",
       "    <tr style=\"text-align: right;\">\n",
       "      <th></th>\n",
       "      <th>ed_years</th>\n",
       "      <th>ed_dip</th>\n",
       "      <th>grad</th>\n",
       "      <th>age</th>\n",
       "      <th>fo</th>\n",
       "      <th>male</th>\n",
       "      <th>ill</th>\n",
       "      <th>hired_of</th>\n",
       "      <th>pay_of</th>\n",
       "      <th>disabled</th>\n",
       "      <th>...</th>\n",
       "      <th>exp</th>\n",
       "      <th>work</th>\n",
       "      <th>hour_month</th>\n",
       "      <th>mean_wage</th>\n",
       "      <th>last_wage</th>\n",
       "      <th>sum_wage</th>\n",
       "      <th>n_kids</th>\n",
       "      <th>age_sq</th>\n",
       "      <th>kids</th>\n",
       "      <th>female</th>\n",
       "    </tr>\n",
       "  </thead>\n",
       "  <tbody>\n",
       "    <tr>\n",
       "      <th>0</th>\n",
       "      <td>11.0</td>\n",
       "      <td>1.0</td>\n",
       "      <td>12.0</td>\n",
       "      <td>36</td>\n",
       "      <td>privolzh</td>\n",
       "      <td>1</td>\n",
       "      <td>1.0</td>\n",
       "      <td>1.0</td>\n",
       "      <td>1.0</td>\n",
       "      <td>0.0</td>\n",
       "      <td>...</td>\n",
       "      <td>12.0</td>\n",
       "      <td>1.0</td>\n",
       "      <td>160.0</td>\n",
       "      <td>30000.0</td>\n",
       "      <td>30000.0</td>\n",
       "      <td>30000.0</td>\n",
       "      <td>2.0</td>\n",
       "      <td>1296</td>\n",
       "      <td>1</td>\n",
       "      <td>0</td>\n",
       "    </tr>\n",
       "    <tr>\n",
       "      <th>1</th>\n",
       "      <td>10.0</td>\n",
       "      <td>1.0</td>\n",
       "      <td>6.0</td>\n",
       "      <td>56</td>\n",
       "      <td>south</td>\n",
       "      <td>0</td>\n",
       "      <td>0.0</td>\n",
       "      <td>1.0</td>\n",
       "      <td>1.0</td>\n",
       "      <td>0.0</td>\n",
       "      <td>...</td>\n",
       "      <td>36.0</td>\n",
       "      <td>1.0</td>\n",
       "      <td>464.0</td>\n",
       "      <td>NaN</td>\n",
       "      <td>10000.0</td>\n",
       "      <td>16200.0</td>\n",
       "      <td>0.0</td>\n",
       "      <td>3136</td>\n",
       "      <td>0</td>\n",
       "      <td>1</td>\n",
       "    </tr>\n",
       "  </tbody>\n",
       "</table>\n",
       "<p>2 rows × 22 columns</p>\n",
       "</div>"
      ],
      "text/plain": [
       "   ed_years  ed_dip  grad  age        fo  male  ill  hired_of  pay_of  \\\n",
       "0      11.0     1.0  12.0   36  privolzh     1  1.0       1.0     1.0   \n",
       "1      10.0     1.0   6.0   56     south     0  0.0       1.0     1.0   \n",
       "\n",
       "   disabled  ...   exp  work  hour_month  mean_wage  last_wage  sum_wage  \\\n",
       "0       0.0  ...  12.0   1.0       160.0    30000.0    30000.0   30000.0   \n",
       "1       0.0  ...  36.0   1.0       464.0        NaN    10000.0   16200.0   \n",
       "\n",
       "   n_kids  age_sq  kids  female  \n",
       "0     2.0    1296     1       0  \n",
       "1     0.0    3136     0       1  \n",
       "\n",
       "[2 rows x 22 columns]"
      ]
     },
     "execution_count": 152,
     "metadata": {},
     "output_type": "execute_result"
    }
   ],
   "source": [
    "wage_df.head(2)"
   ]
  },
  {
   "cell_type": "markdown",
   "metadata": {},
   "source": [
    "### Education"
   ]
  },
  {
   "cell_type": "code",
   "execution_count": 153,
   "metadata": {},
   "outputs": [],
   "source": [
    "# 8, 13, 14 - drop it\n",
    "\n",
    "educ_dict = {1: 'sch', 2: 'sch', 3: 'tech1', 4: 'tech1', 5: 'tech1', 6: 'tech2', \\\n",
    "            10: 'uni', 11: 'uni', 12: 'uni', \\\n",
    "            8: 'asp', \\\n",
    "            13: 'asp', 14: 'asp'}\n",
    "wage_df['grad'] = wage_df['grad'].map(educ_dict)\n",
    "# wage_df.loc[wage_df['grad'] != 'asp'].shape, wage_df.shape\n",
    "wage_df = wage_df.loc[wage_df['grad'] != 'asp'].copy()"
   ]
  },
  {
   "cell_type": "markdown",
   "metadata": {},
   "source": [
    "### Marriage"
   ]
  },
  {
   "cell_type": "code",
   "execution_count": 154,
   "metadata": {},
   "outputs": [],
   "source": [
    "marr_dict = {1: 0, 4: 0, 5: 0, 2: 1, 3: 1, 6: 1}\n",
    "wage_df['married'] = wage_df['married'].map(marr_dict)\n",
    "#wage_df['fem_mar'] = wage_df['married'] * wage_df['female']"
   ]
  },
  {
   "cell_type": "markdown",
   "metadata": {},
   "source": [
    "### Wage"
   ]
  },
  {
   "cell_type": "code",
   "execution_count": 155,
   "metadata": {},
   "outputs": [],
   "source": [
    "wage_df.loc[wage_df['sum_wage'] > 0, 'last_wage'] = wage_df.loc[wage_df['sum_wage'] > 0, 'last_wage'].fillna(0)\n",
    "wage_df.loc[wage_df['last_wage']==0, 'hour_month'] = wage_df.loc[wage_df['last_wage']==0, 'hour_month'].fillna(0)\n",
    "wage_df.loc[wage_df['last_wage']==0, 'work'] = wage_df.loc[wage_df['last_wage']==0, 'work'].fillna(0)"
   ]
  },
  {
   "cell_type": "code",
   "execution_count": 156,
   "metadata": {},
   "outputs": [
    {
     "data": {
      "text/html": [
       "<div>\n",
       "<style scoped>\n",
       "    .dataframe tbody tr th:only-of-type {\n",
       "        vertical-align: middle;\n",
       "    }\n",
       "\n",
       "    .dataframe tbody tr th {\n",
       "        vertical-align: top;\n",
       "    }\n",
       "\n",
       "    .dataframe thead th {\n",
       "        text-align: right;\n",
       "    }\n",
       "</style>\n",
       "<table border=\"1\" class=\"dataframe\">\n",
       "  <thead>\n",
       "    <tr style=\"text-align: right;\">\n",
       "      <th></th>\n",
       "      <th>ed_years</th>\n",
       "      <th>ed_dip</th>\n",
       "      <th>grad</th>\n",
       "      <th>age</th>\n",
       "      <th>fo</th>\n",
       "      <th>male</th>\n",
       "      <th>ill</th>\n",
       "      <th>hired_of</th>\n",
       "      <th>pay_of</th>\n",
       "      <th>disabled</th>\n",
       "      <th>...</th>\n",
       "      <th>exp</th>\n",
       "      <th>work</th>\n",
       "      <th>hour_month</th>\n",
       "      <th>mean_wage</th>\n",
       "      <th>last_wage</th>\n",
       "      <th>sum_wage</th>\n",
       "      <th>n_kids</th>\n",
       "      <th>age_sq</th>\n",
       "      <th>kids</th>\n",
       "      <th>female</th>\n",
       "    </tr>\n",
       "  </thead>\n",
       "  <tbody>\n",
       "    <tr>\n",
       "      <th>10741</th>\n",
       "      <td>9.0</td>\n",
       "      <td>NaN</td>\n",
       "      <td>NaN</td>\n",
       "      <td>15</td>\n",
       "      <td>privolzh</td>\n",
       "      <td>0</td>\n",
       "      <td>0.0</td>\n",
       "      <td>NaN</td>\n",
       "      <td>NaN</td>\n",
       "      <td>0.0</td>\n",
       "      <td>...</td>\n",
       "      <td>NaN</td>\n",
       "      <td>0.0</td>\n",
       "      <td>0.0</td>\n",
       "      <td>NaN</td>\n",
       "      <td>0.0</td>\n",
       "      <td>300.0</td>\n",
       "      <td>0.0</td>\n",
       "      <td>225</td>\n",
       "      <td>0</td>\n",
       "      <td>1</td>\n",
       "    </tr>\n",
       "    <tr>\n",
       "      <th>10770</th>\n",
       "      <td>8.0</td>\n",
       "      <td>NaN</td>\n",
       "      <td>sch</td>\n",
       "      <td>66</td>\n",
       "      <td>center</td>\n",
       "      <td>1</td>\n",
       "      <td>0.0</td>\n",
       "      <td>NaN</td>\n",
       "      <td>NaN</td>\n",
       "      <td>0.0</td>\n",
       "      <td>...</td>\n",
       "      <td>36.0</td>\n",
       "      <td>0.0</td>\n",
       "      <td>0.0</td>\n",
       "      <td>NaN</td>\n",
       "      <td>0.0</td>\n",
       "      <td>7400.0</td>\n",
       "      <td>0.0</td>\n",
       "      <td>4356</td>\n",
       "      <td>0</td>\n",
       "      <td>0</td>\n",
       "    </tr>\n",
       "    <tr>\n",
       "      <th>9222</th>\n",
       "      <td>7.0</td>\n",
       "      <td>NaN</td>\n",
       "      <td>sch</td>\n",
       "      <td>27</td>\n",
       "      <td>trans-urals</td>\n",
       "      <td>1</td>\n",
       "      <td>0.0</td>\n",
       "      <td>NaN</td>\n",
       "      <td>NaN</td>\n",
       "      <td>0.0</td>\n",
       "      <td>...</td>\n",
       "      <td>NaN</td>\n",
       "      <td>0.0</td>\n",
       "      <td>0.0</td>\n",
       "      <td>NaN</td>\n",
       "      <td>0.0</td>\n",
       "      <td>25000.0</td>\n",
       "      <td>1.0</td>\n",
       "      <td>729</td>\n",
       "      <td>1</td>\n",
       "      <td>0</td>\n",
       "    </tr>\n",
       "  </tbody>\n",
       "</table>\n",
       "<p>3 rows × 22 columns</p>\n",
       "</div>"
      ],
      "text/plain": [
       "       ed_years  ed_dip grad  age           fo  male  ill  hired_of  pay_of  \\\n",
       "10741       9.0     NaN  NaN   15     privolzh     0  0.0       NaN     NaN   \n",
       "10770       8.0     NaN  sch   66       center     1  0.0       NaN     NaN   \n",
       "9222        7.0     NaN  sch   27  trans-urals     1  0.0       NaN     NaN   \n",
       "\n",
       "       disabled  ...   exp  work  hour_month  mean_wage  last_wage  sum_wage  \\\n",
       "10741       0.0  ...   NaN   0.0         0.0        NaN        0.0     300.0   \n",
       "10770       0.0  ...  36.0   0.0         0.0        NaN        0.0    7400.0   \n",
       "9222        0.0  ...   NaN   0.0         0.0        NaN        0.0   25000.0   \n",
       "\n",
       "       n_kids  age_sq  kids  female  \n",
       "10741     0.0     225     0       1  \n",
       "10770     0.0    4356     0       0  \n",
       "9222      1.0     729     1       0  \n",
       "\n",
       "[3 rows x 22 columns]"
      ]
     },
     "execution_count": 156,
     "metadata": {},
     "output_type": "execute_result"
    }
   ],
   "source": [
    "wage_df.sample(3)"
   ]
  },
  {
   "cell_type": "code",
   "execution_count": 157,
   "metadata": {},
   "outputs": [],
   "source": [
    "wage_df['rest_wage'] = wage_df['sum_wage'] - wage_df['last_wage']"
   ]
  },
  {
   "cell_type": "code",
   "execution_count": 158,
   "metadata": {},
   "outputs": [
    {
     "data": {
      "text/html": [
       "<div>\n",
       "<style scoped>\n",
       "    .dataframe tbody tr th:only-of-type {\n",
       "        vertical-align: middle;\n",
       "    }\n",
       "\n",
       "    .dataframe tbody tr th {\n",
       "        vertical-align: top;\n",
       "    }\n",
       "\n",
       "    .dataframe thead th {\n",
       "        text-align: right;\n",
       "    }\n",
       "</style>\n",
       "<table border=\"1\" class=\"dataframe\">\n",
       "  <thead>\n",
       "    <tr style=\"text-align: right;\">\n",
       "      <th></th>\n",
       "      <th>rest_wage</th>\n",
       "    </tr>\n",
       "  </thead>\n",
       "  <tbody>\n",
       "    <tr>\n",
       "      <th>9443</th>\n",
       "      <td>1218000.0</td>\n",
       "    </tr>\n",
       "    <tr>\n",
       "      <th>9579</th>\n",
       "      <td>1214300.0</td>\n",
       "    </tr>\n",
       "    <tr>\n",
       "      <th>2822</th>\n",
       "      <td>450000.0</td>\n",
       "    </tr>\n",
       "    <tr>\n",
       "      <th>5823</th>\n",
       "      <td>424000.0</td>\n",
       "    </tr>\n",
       "    <tr>\n",
       "      <th>9616</th>\n",
       "      <td>384300.0</td>\n",
       "    </tr>\n",
       "  </tbody>\n",
       "</table>\n",
       "</div>"
      ],
      "text/plain": [
       "      rest_wage\n",
       "9443  1218000.0\n",
       "9579  1214300.0\n",
       "2822   450000.0\n",
       "5823   424000.0\n",
       "9616   384300.0"
      ]
     },
     "execution_count": 158,
     "metadata": {},
     "output_type": "execute_result"
    }
   ],
   "source": [
    "wage_df[['rest_wage']].sort_values('rest_wage', ascending=False).head()"
   ]
  },
  {
   "cell_type": "code",
   "execution_count": 159,
   "metadata": {},
   "outputs": [
    {
     "data": {
      "text/plain": [
       "ed_years         56\n",
       "ed_dip         5624\n",
       "grad            597\n",
       "age               0\n",
       "fo                0\n",
       "male              0\n",
       "ill              88\n",
       "hired_of       7290\n",
       "pay_of         7252\n",
       "disabled          0\n",
       "dis           13001\n",
       "married          34\n",
       "exp            2144\n",
       "work           1508\n",
       "hour_month     2612\n",
       "mean_wage      7737\n",
       "last_wage      1884\n",
       "sum_wage        396\n",
       "n_kids           13\n",
       "age_sq            0\n",
       "kids              0\n",
       "female            0\n",
       "rest_wage      1907\n",
       "dtype: int64"
      ]
     },
     "execution_count": 159,
     "metadata": {},
     "output_type": "execute_result"
    }
   ],
   "source": [
    "wage_df.isna().sum()"
   ]
  },
  {
   "cell_type": "code",
   "execution_count": 160,
   "metadata": {},
   "outputs": [
    {
     "data": {
      "text/plain": [
       "9443    1226000.0\n",
       "9579    1214300.0\n",
       "2822     610000.0\n",
       "5823     424000.0\n",
       "9616     402300.0\n",
       "Name: sum_wage, dtype: float64"
      ]
     },
     "execution_count": 160,
     "metadata": {},
     "output_type": "execute_result"
    }
   ],
   "source": [
    "wage_df['sum_wage'].sort_values(ascending=False).head()"
   ]
  },
  {
   "cell_type": "markdown",
   "metadata": {},
   "source": [
    "### Disabled"
   ]
  },
  {
   "cell_type": "code",
   "execution_count": 161,
   "metadata": {},
   "outputs": [],
   "source": [
    "wage_df['dis'] = wage_df['dis'].fillna(0)"
   ]
  },
  {
   "cell_type": "code",
   "execution_count": 162,
   "metadata": {},
   "outputs": [
    {
     "data": {
      "text/html": [
       "<div>\n",
       "<style scoped>\n",
       "    .dataframe tbody tr th:only-of-type {\n",
       "        vertical-align: middle;\n",
       "    }\n",
       "\n",
       "    .dataframe tbody tr th {\n",
       "        vertical-align: top;\n",
       "    }\n",
       "\n",
       "    .dataframe thead th {\n",
       "        text-align: right;\n",
       "    }\n",
       "</style>\n",
       "<table border=\"1\" class=\"dataframe\">\n",
       "  <thead>\n",
       "    <tr style=\"text-align: right;\">\n",
       "      <th></th>\n",
       "      <th>ed_years</th>\n",
       "      <th>ed_dip</th>\n",
       "      <th>grad</th>\n",
       "      <th>age</th>\n",
       "      <th>fo</th>\n",
       "      <th>male</th>\n",
       "      <th>ill</th>\n",
       "      <th>hired_of</th>\n",
       "      <th>pay_of</th>\n",
       "      <th>disabled</th>\n",
       "      <th>...</th>\n",
       "      <th>work</th>\n",
       "      <th>hour_month</th>\n",
       "      <th>mean_wage</th>\n",
       "      <th>last_wage</th>\n",
       "      <th>sum_wage</th>\n",
       "      <th>n_kids</th>\n",
       "      <th>age_sq</th>\n",
       "      <th>kids</th>\n",
       "      <th>female</th>\n",
       "      <th>rest_wage</th>\n",
       "    </tr>\n",
       "  </thead>\n",
       "  <tbody>\n",
       "    <tr>\n",
       "      <th>0</th>\n",
       "      <td>11.0</td>\n",
       "      <td>1.0</td>\n",
       "      <td>uni</td>\n",
       "      <td>36</td>\n",
       "      <td>privolzh</td>\n",
       "      <td>1</td>\n",
       "      <td>1.0</td>\n",
       "      <td>1.0</td>\n",
       "      <td>1.0</td>\n",
       "      <td>0.0</td>\n",
       "      <td>...</td>\n",
       "      <td>1.0</td>\n",
       "      <td>160.0</td>\n",
       "      <td>30000.0</td>\n",
       "      <td>30000.0</td>\n",
       "      <td>30000.0</td>\n",
       "      <td>2.0</td>\n",
       "      <td>1296</td>\n",
       "      <td>1</td>\n",
       "      <td>0</td>\n",
       "      <td>0.0</td>\n",
       "    </tr>\n",
       "    <tr>\n",
       "      <th>1</th>\n",
       "      <td>10.0</td>\n",
       "      <td>1.0</td>\n",
       "      <td>tech2</td>\n",
       "      <td>56</td>\n",
       "      <td>south</td>\n",
       "      <td>0</td>\n",
       "      <td>0.0</td>\n",
       "      <td>1.0</td>\n",
       "      <td>1.0</td>\n",
       "      <td>0.0</td>\n",
       "      <td>...</td>\n",
       "      <td>1.0</td>\n",
       "      <td>464.0</td>\n",
       "      <td>NaN</td>\n",
       "      <td>10000.0</td>\n",
       "      <td>16200.0</td>\n",
       "      <td>0.0</td>\n",
       "      <td>3136</td>\n",
       "      <td>0</td>\n",
       "      <td>1</td>\n",
       "      <td>6200.0</td>\n",
       "    </tr>\n",
       "    <tr>\n",
       "      <th>2</th>\n",
       "      <td>9.0</td>\n",
       "      <td>NaN</td>\n",
       "      <td>tech1</td>\n",
       "      <td>20</td>\n",
       "      <td>privolzh</td>\n",
       "      <td>1</td>\n",
       "      <td>0.0</td>\n",
       "      <td>NaN</td>\n",
       "      <td>NaN</td>\n",
       "      <td>0.0</td>\n",
       "      <td>...</td>\n",
       "      <td>0.0</td>\n",
       "      <td>0.0</td>\n",
       "      <td>NaN</td>\n",
       "      <td>0.0</td>\n",
       "      <td>30000.0</td>\n",
       "      <td>1.0</td>\n",
       "      <td>400</td>\n",
       "      <td>1</td>\n",
       "      <td>0</td>\n",
       "      <td>30000.0</td>\n",
       "    </tr>\n",
       "    <tr>\n",
       "      <th>3</th>\n",
       "      <td>9.0</td>\n",
       "      <td>NaN</td>\n",
       "      <td>tech1</td>\n",
       "      <td>37</td>\n",
       "      <td>south</td>\n",
       "      <td>1</td>\n",
       "      <td>0.0</td>\n",
       "      <td>1.0</td>\n",
       "      <td>NaN</td>\n",
       "      <td>0.0</td>\n",
       "      <td>...</td>\n",
       "      <td>1.0</td>\n",
       "      <td>150.0</td>\n",
       "      <td>30000.0</td>\n",
       "      <td>27000.0</td>\n",
       "      <td>32000.0</td>\n",
       "      <td>2.0</td>\n",
       "      <td>1369</td>\n",
       "      <td>1</td>\n",
       "      <td>0</td>\n",
       "      <td>5000.0</td>\n",
       "    </tr>\n",
       "    <tr>\n",
       "      <th>4</th>\n",
       "      <td>11.0</td>\n",
       "      <td>1.0</td>\n",
       "      <td>uni</td>\n",
       "      <td>25</td>\n",
       "      <td>center</td>\n",
       "      <td>0</td>\n",
       "      <td>0.0</td>\n",
       "      <td>1.0</td>\n",
       "      <td>1.0</td>\n",
       "      <td>0.0</td>\n",
       "      <td>...</td>\n",
       "      <td>0.0</td>\n",
       "      <td>NaN</td>\n",
       "      <td>50000.0</td>\n",
       "      <td>25000.0</td>\n",
       "      <td>25000.0</td>\n",
       "      <td>0.0</td>\n",
       "      <td>625</td>\n",
       "      <td>0</td>\n",
       "      <td>1</td>\n",
       "      <td>0.0</td>\n",
       "    </tr>\n",
       "  </tbody>\n",
       "</table>\n",
       "<p>5 rows × 23 columns</p>\n",
       "</div>"
      ],
      "text/plain": [
       "   ed_years  ed_dip   grad  age        fo  male  ill  hired_of  pay_of  \\\n",
       "0      11.0     1.0    uni   36  privolzh     1  1.0       1.0     1.0   \n",
       "1      10.0     1.0  tech2   56     south     0  0.0       1.0     1.0   \n",
       "2       9.0     NaN  tech1   20  privolzh     1  0.0       NaN     NaN   \n",
       "3       9.0     NaN  tech1   37     south     1  0.0       1.0     NaN   \n",
       "4      11.0     1.0    uni   25    center     0  0.0       1.0     1.0   \n",
       "\n",
       "   disabled  ...  work  hour_month  mean_wage  last_wage  sum_wage  n_kids  \\\n",
       "0       0.0  ...   1.0       160.0    30000.0    30000.0   30000.0     2.0   \n",
       "1       0.0  ...   1.0       464.0        NaN    10000.0   16200.0     0.0   \n",
       "2       0.0  ...   0.0         0.0        NaN        0.0   30000.0     1.0   \n",
       "3       0.0  ...   1.0       150.0    30000.0    27000.0   32000.0     2.0   \n",
       "4       0.0  ...   0.0         NaN    50000.0    25000.0   25000.0     0.0   \n",
       "\n",
       "   age_sq  kids  female  rest_wage  \n",
       "0    1296     1       0        0.0  \n",
       "1    3136     0       1     6200.0  \n",
       "2     400     1       0    30000.0  \n",
       "3    1369     1       0     5000.0  \n",
       "4     625     0       1        0.0  \n",
       "\n",
       "[5 rows x 23 columns]"
      ]
     },
     "execution_count": 162,
     "metadata": {},
     "output_type": "execute_result"
    }
   ],
   "source": [
    "wage_df.head()"
   ]
  },
  {
   "cell_type": "markdown",
   "metadata": {},
   "source": [
    "# To drop"
   ]
  },
  {
   "cell_type": "code",
   "execution_count": 163,
   "metadata": {},
   "outputs": [],
   "source": [
    "columns_to_drop = ['ed_years', 'ed_dip', 'hired_of', 'pay_of', 'mean_wage']\n",
    "wage_df.drop(columns=columns_to_drop, inplace=True)"
   ]
  },
  {
   "cell_type": "markdown",
   "metadata": {},
   "source": [
    "# Save df (and drop)"
   ]
  },
  {
   "cell_type": "code",
   "execution_count": 164,
   "metadata": {},
   "outputs": [],
   "source": [
    "wage_df = wage_df.loc[(wage_df['age'] <= 75) & (wage_df['age'] >= 14) & (wage_df['exp'] < 100)].dropna().copy()\n",
    "# .reset_index(drop=True)"
   ]
  },
  {
   "cell_type": "markdown",
   "metadata": {},
   "source": [
    "##### fem_mar"
   ]
  },
  {
   "cell_type": "code",
   "execution_count": 165,
   "metadata": {},
   "outputs": [],
   "source": [
    "wage_df['fem_mar'] = (wage_df['married'] * wage_df['female']).astype('int')"
   ]
  },
  {
   "cell_type": "code",
   "execution_count": 166,
   "metadata": {},
   "outputs": [
    {
     "data": {
      "text/plain": [
       "(9079, 19)"
      ]
     },
     "execution_count": 166,
     "metadata": {},
     "output_type": "execute_result"
    }
   ],
   "source": [
    "wage_df.shape"
   ]
  },
  {
   "cell_type": "markdown",
   "metadata": {},
   "source": [
    "# Do it after drop"
   ]
  },
  {
   "cell_type": "code",
   "execution_count": 167,
   "metadata": {},
   "outputs": [],
   "source": [
    "wage_df['last_wage_hour'] = (wage_df['last_wage'] / wage_df['hour_month']).round(1).fillna(0)"
   ]
  },
  {
   "cell_type": "code",
   "execution_count": 168,
   "metadata": {},
   "outputs": [],
   "source": [
    "wage_df = wage_df.replace([np.inf, -np.inf], 0)"
   ]
  },
  {
   "cell_type": "code",
   "execution_count": 181,
   "metadata": {},
   "outputs": [
    {
     "data": {
      "text/plain": [
       "age               0\n",
       "male              0\n",
       "ill               0\n",
       "disabled          0\n",
       "married           0\n",
       "exp               0\n",
       "work              0\n",
       "hour_month        0\n",
       "last_wage         0\n",
       "sum_wage          0\n",
       "n_kids            0\n",
       "age_sq            0\n",
       "kids              0\n",
       "female            0\n",
       "nl_income         0\n",
       "fem_mar           0\n",
       "last_wage_hour    0\n",
       "grad_sch          0\n",
       "grad_tech1        0\n",
       "grad_tech2        0\n",
       "grad_uni          0\n",
       "fo_privolzh       0\n",
       "fo_south          0\n",
       "fo_trans-urals    0\n",
       "fo_ural           0\n",
       "dis_1             0\n",
       "dis_2             0\n",
       "dis_3             0\n",
       "dtype: int64"
      ]
     },
     "execution_count": 181,
     "metadata": {},
     "output_type": "execute_result"
    }
   ],
   "source": [
    "wage_df.isna().sum()"
   ]
  },
  {
   "cell_type": "markdown",
   "metadata": {},
   "source": [
    "last wage, woork==0 => fillna(0)"
   ]
  },
  {
   "cell_type": "code",
   "execution_count": 170,
   "metadata": {},
   "outputs": [
    {
     "data": {
      "text/plain": [
       "9443    1226000.0\n",
       "9579    1214300.0\n",
       "2822     610000.0\n",
       "5823     424000.0\n",
       "9616     402300.0\n",
       "Name: sum_wage, dtype: float64"
      ]
     },
     "execution_count": 170,
     "metadata": {},
     "output_type": "execute_result"
    }
   ],
   "source": [
    "wage_df['sum_wage'].sort_values(ascending=False).head()"
   ]
  },
  {
   "cell_type": "markdown",
   "metadata": {},
   "source": [
    "# OHE"
   ]
  },
  {
   "cell_type": "code",
   "execution_count": 171,
   "metadata": {},
   "outputs": [],
   "source": [
    "wage_df['fem_mar'] = wage_df['married'] * wage_df['female']\n",
    "wage_df[['male', 'ill', 'work', 'married', 'fem_mar', 'disabled', 'dis']] =  \\\n",
    "wage_df[['male', 'ill', 'work', 'married', 'fem_mar', 'disabled', 'dis']].astype('int')"
   ]
  },
  {
   "cell_type": "code",
   "execution_count": 172,
   "metadata": {},
   "outputs": [],
   "source": [
    "wage_df = pd.get_dummies(wage_df, columns=['grad', 'fo', 'dis'])"
   ]
  },
  {
   "cell_type": "code",
   "execution_count": 173,
   "metadata": {},
   "outputs": [
    {
     "data": {
      "text/html": [
       "<div>\n",
       "<style scoped>\n",
       "    .dataframe tbody tr th:only-of-type {\n",
       "        vertical-align: middle;\n",
       "    }\n",
       "\n",
       "    .dataframe tbody tr th {\n",
       "        vertical-align: top;\n",
       "    }\n",
       "\n",
       "    .dataframe thead th {\n",
       "        text-align: right;\n",
       "    }\n",
       "</style>\n",
       "<table border=\"1\" class=\"dataframe\">\n",
       "  <thead>\n",
       "    <tr style=\"text-align: right;\">\n",
       "      <th></th>\n",
       "      <th>age</th>\n",
       "      <th>male</th>\n",
       "      <th>ill</th>\n",
       "      <th>disabled</th>\n",
       "      <th>married</th>\n",
       "      <th>exp</th>\n",
       "      <th>work</th>\n",
       "      <th>hour_month</th>\n",
       "      <th>last_wage</th>\n",
       "      <th>sum_wage</th>\n",
       "      <th>...</th>\n",
       "      <th>grad_uni</th>\n",
       "      <th>fo_center</th>\n",
       "      <th>fo_privolzh</th>\n",
       "      <th>fo_south</th>\n",
       "      <th>fo_trans-urals</th>\n",
       "      <th>fo_ural</th>\n",
       "      <th>dis_0</th>\n",
       "      <th>dis_1</th>\n",
       "      <th>dis_2</th>\n",
       "      <th>dis_3</th>\n",
       "    </tr>\n",
       "  </thead>\n",
       "  <tbody>\n",
       "    <tr>\n",
       "      <th>13933</th>\n",
       "      <td>37</td>\n",
       "      <td>1</td>\n",
       "      <td>0</td>\n",
       "      <td>0</td>\n",
       "      <td>1</td>\n",
       "      <td>18.0</td>\n",
       "      <td>1</td>\n",
       "      <td>176.0</td>\n",
       "      <td>21000.0</td>\n",
       "      <td>21000.0</td>\n",
       "      <td>...</td>\n",
       "      <td>0</td>\n",
       "      <td>1</td>\n",
       "      <td>0</td>\n",
       "      <td>0</td>\n",
       "      <td>0</td>\n",
       "      <td>0</td>\n",
       "      <td>1</td>\n",
       "      <td>0</td>\n",
       "      <td>0</td>\n",
       "      <td>0</td>\n",
       "    </tr>\n",
       "    <tr>\n",
       "      <th>5221</th>\n",
       "      <td>28</td>\n",
       "      <td>1</td>\n",
       "      <td>0</td>\n",
       "      <td>0</td>\n",
       "      <td>1</td>\n",
       "      <td>5.0</td>\n",
       "      <td>1</td>\n",
       "      <td>192.0</td>\n",
       "      <td>30000.0</td>\n",
       "      <td>30000.0</td>\n",
       "      <td>...</td>\n",
       "      <td>0</td>\n",
       "      <td>1</td>\n",
       "      <td>0</td>\n",
       "      <td>0</td>\n",
       "      <td>0</td>\n",
       "      <td>0</td>\n",
       "      <td>1</td>\n",
       "      <td>0</td>\n",
       "      <td>0</td>\n",
       "      <td>0</td>\n",
       "    </tr>\n",
       "  </tbody>\n",
       "</table>\n",
       "<p>2 rows × 30 columns</p>\n",
       "</div>"
      ],
      "text/plain": [
       "       age  male  ill  disabled  married   exp  work  hour_month  last_wage  \\\n",
       "13933   37     1    0         0        1  18.0     1       176.0    21000.0   \n",
       "5221    28     1    0         0        1   5.0     1       192.0    30000.0   \n",
       "\n",
       "       sum_wage  ...  grad_uni  fo_center  fo_privolzh  fo_south  \\\n",
       "13933   21000.0  ...         0          1            0         0   \n",
       "5221    30000.0  ...         0          1            0         0   \n",
       "\n",
       "       fo_trans-urals  fo_ural  dis_0  dis_1  dis_2  dis_3  \n",
       "13933               0        0      1      0      0      0  \n",
       "5221                0        0      1      0      0      0  \n",
       "\n",
       "[2 rows x 30 columns]"
      ]
     },
     "execution_count": 173,
     "metadata": {},
     "output_type": "execute_result"
    }
   ],
   "source": [
    "wage_df.sample(2)"
   ]
  },
  {
   "cell_type": "code",
   "execution_count": 174,
   "metadata": {},
   "outputs": [],
   "source": [
    "wage_df.drop(columns=['fo_center', 'dis_0'], inplace=True)"
   ]
  },
  {
   "cell_type": "code",
   "execution_count": 175,
   "metadata": {},
   "outputs": [],
   "source": [
    "wage_df = wage_df.rename(columns={'rest_wage': 'nl_income'})"
   ]
  },
  {
   "cell_type": "code",
   "execution_count": 253,
   "metadata": {},
   "outputs": [],
   "source": [
    "#wage_df.columns =['age', 'male', 'ill', 'disabled', 'married', 'exp', 'work',\n",
    "#                  'hour_month', 'last_wage', 'sum_wage', 'age_sq', 'female', 'nl_income', \n",
    "#                  'fem_mar','wage', 'grad_asp', 'grad_sch', 'grad_sci', 'grad_uni',\n",
    "#                  'privolzh', 'south', 'trans-urals', 'ural', 'grad_phd']"
   ]
  },
  {
   "cell_type": "code",
   "execution_count": 176,
   "metadata": {},
   "outputs": [
    {
     "data": {
      "text/plain": [
       "Index(['age', 'male', 'ill', 'disabled', 'married', 'exp', 'work',\n",
       "       'hour_month', 'last_wage', 'sum_wage', 'n_kids', 'age_sq', 'kids',\n",
       "       'female', 'nl_income', 'fem_mar', 'last_wage_hour', 'grad_sch',\n",
       "       'grad_tech1', 'grad_tech2', 'grad_uni', 'fo_privolzh', 'fo_south',\n",
       "       'fo_trans-urals', 'fo_ural', 'dis_1', 'dis_2', 'dis_3'],\n",
       "      dtype='object')"
      ]
     },
     "execution_count": 176,
     "metadata": {},
     "output_type": "execute_result"
    }
   ],
   "source": [
    "wage_df.columns"
   ]
  },
  {
   "cell_type": "code",
   "execution_count": 177,
   "metadata": {},
   "outputs": [
    {
     "data": {
      "text/html": [
       "<div>\n",
       "<style scoped>\n",
       "    .dataframe tbody tr th:only-of-type {\n",
       "        vertical-align: middle;\n",
       "    }\n",
       "\n",
       "    .dataframe tbody tr th {\n",
       "        vertical-align: top;\n",
       "    }\n",
       "\n",
       "    .dataframe thead th {\n",
       "        text-align: right;\n",
       "    }\n",
       "</style>\n",
       "<table border=\"1\" class=\"dataframe\">\n",
       "  <thead>\n",
       "    <tr style=\"text-align: right;\">\n",
       "      <th></th>\n",
       "      <th>age</th>\n",
       "      <th>male</th>\n",
       "      <th>ill</th>\n",
       "      <th>disabled</th>\n",
       "      <th>married</th>\n",
       "      <th>exp</th>\n",
       "      <th>work</th>\n",
       "      <th>hour_month</th>\n",
       "      <th>last_wage</th>\n",
       "      <th>sum_wage</th>\n",
       "      <th>...</th>\n",
       "      <th>grad_tech1</th>\n",
       "      <th>grad_tech2</th>\n",
       "      <th>grad_uni</th>\n",
       "      <th>fo_privolzh</th>\n",
       "      <th>fo_south</th>\n",
       "      <th>fo_trans-urals</th>\n",
       "      <th>fo_ural</th>\n",
       "      <th>dis_1</th>\n",
       "      <th>dis_2</th>\n",
       "      <th>dis_3</th>\n",
       "    </tr>\n",
       "  </thead>\n",
       "  <tbody>\n",
       "    <tr>\n",
       "      <th>2117</th>\n",
       "      <td>70</td>\n",
       "      <td>0</td>\n",
       "      <td>0</td>\n",
       "      <td>1</td>\n",
       "      <td>0</td>\n",
       "      <td>36.0</td>\n",
       "      <td>0</td>\n",
       "      <td>0.0</td>\n",
       "      <td>0.0</td>\n",
       "      <td>12200.0</td>\n",
       "      <td>...</td>\n",
       "      <td>1</td>\n",
       "      <td>0</td>\n",
       "      <td>0</td>\n",
       "      <td>0</td>\n",
       "      <td>0</td>\n",
       "      <td>0</td>\n",
       "      <td>1</td>\n",
       "      <td>0</td>\n",
       "      <td>0</td>\n",
       "      <td>0</td>\n",
       "    </tr>\n",
       "    <tr>\n",
       "      <th>2818</th>\n",
       "      <td>73</td>\n",
       "      <td>1</td>\n",
       "      <td>0</td>\n",
       "      <td>1</td>\n",
       "      <td>1</td>\n",
       "      <td>47.0</td>\n",
       "      <td>0</td>\n",
       "      <td>0.0</td>\n",
       "      <td>0.0</td>\n",
       "      <td>14000.0</td>\n",
       "      <td>...</td>\n",
       "      <td>0</td>\n",
       "      <td>1</td>\n",
       "      <td>0</td>\n",
       "      <td>0</td>\n",
       "      <td>0</td>\n",
       "      <td>0</td>\n",
       "      <td>0</td>\n",
       "      <td>0</td>\n",
       "      <td>0</td>\n",
       "      <td>0</td>\n",
       "    </tr>\n",
       "    <tr>\n",
       "      <th>5138</th>\n",
       "      <td>63</td>\n",
       "      <td>0</td>\n",
       "      <td>0</td>\n",
       "      <td>1</td>\n",
       "      <td>0</td>\n",
       "      <td>40.0</td>\n",
       "      <td>0</td>\n",
       "      <td>0.0</td>\n",
       "      <td>0.0</td>\n",
       "      <td>11300.0</td>\n",
       "      <td>...</td>\n",
       "      <td>0</td>\n",
       "      <td>1</td>\n",
       "      <td>0</td>\n",
       "      <td>0</td>\n",
       "      <td>1</td>\n",
       "      <td>0</td>\n",
       "      <td>0</td>\n",
       "      <td>0</td>\n",
       "      <td>0</td>\n",
       "      <td>0</td>\n",
       "    </tr>\n",
       "    <tr>\n",
       "      <th>7333</th>\n",
       "      <td>68</td>\n",
       "      <td>1</td>\n",
       "      <td>0</td>\n",
       "      <td>1</td>\n",
       "      <td>1</td>\n",
       "      <td>33.0</td>\n",
       "      <td>0</td>\n",
       "      <td>0.0</td>\n",
       "      <td>0.0</td>\n",
       "      <td>17000.0</td>\n",
       "      <td>...</td>\n",
       "      <td>0</td>\n",
       "      <td>1</td>\n",
       "      <td>0</td>\n",
       "      <td>0</td>\n",
       "      <td>0</td>\n",
       "      <td>1</td>\n",
       "      <td>0</td>\n",
       "      <td>0</td>\n",
       "      <td>0</td>\n",
       "      <td>0</td>\n",
       "    </tr>\n",
       "    <tr>\n",
       "      <th>8758</th>\n",
       "      <td>58</td>\n",
       "      <td>0</td>\n",
       "      <td>0</td>\n",
       "      <td>1</td>\n",
       "      <td>1</td>\n",
       "      <td>36.0</td>\n",
       "      <td>0</td>\n",
       "      <td>0.0</td>\n",
       "      <td>0.0</td>\n",
       "      <td>11100.0</td>\n",
       "      <td>...</td>\n",
       "      <td>0</td>\n",
       "      <td>1</td>\n",
       "      <td>0</td>\n",
       "      <td>0</td>\n",
       "      <td>0</td>\n",
       "      <td>0</td>\n",
       "      <td>0</td>\n",
       "      <td>0</td>\n",
       "      <td>0</td>\n",
       "      <td>0</td>\n",
       "    </tr>\n",
       "    <tr>\n",
       "      <th>11098</th>\n",
       "      <td>67</td>\n",
       "      <td>0</td>\n",
       "      <td>1</td>\n",
       "      <td>1</td>\n",
       "      <td>0</td>\n",
       "      <td>45.0</td>\n",
       "      <td>0</td>\n",
       "      <td>0.0</td>\n",
       "      <td>0.0</td>\n",
       "      <td>20500.0</td>\n",
       "      <td>...</td>\n",
       "      <td>0</td>\n",
       "      <td>0</td>\n",
       "      <td>0</td>\n",
       "      <td>1</td>\n",
       "      <td>0</td>\n",
       "      <td>0</td>\n",
       "      <td>0</td>\n",
       "      <td>0</td>\n",
       "      <td>0</td>\n",
       "      <td>0</td>\n",
       "    </tr>\n",
       "    <tr>\n",
       "      <th>11313</th>\n",
       "      <td>46</td>\n",
       "      <td>0</td>\n",
       "      <td>0</td>\n",
       "      <td>1</td>\n",
       "      <td>1</td>\n",
       "      <td>12.0</td>\n",
       "      <td>0</td>\n",
       "      <td>0.0</td>\n",
       "      <td>0.0</td>\n",
       "      <td>6100.0</td>\n",
       "      <td>...</td>\n",
       "      <td>0</td>\n",
       "      <td>0</td>\n",
       "      <td>0</td>\n",
       "      <td>0</td>\n",
       "      <td>1</td>\n",
       "      <td>0</td>\n",
       "      <td>0</td>\n",
       "      <td>0</td>\n",
       "      <td>0</td>\n",
       "      <td>0</td>\n",
       "    </tr>\n",
       "  </tbody>\n",
       "</table>\n",
       "<p>7 rows × 28 columns</p>\n",
       "</div>"
      ],
      "text/plain": [
       "       age  male  ill  disabled  married   exp  work  hour_month  last_wage  \\\n",
       "2117    70     0    0         1        0  36.0     0         0.0        0.0   \n",
       "2818    73     1    0         1        1  47.0     0         0.0        0.0   \n",
       "5138    63     0    0         1        0  40.0     0         0.0        0.0   \n",
       "7333    68     1    0         1        1  33.0     0         0.0        0.0   \n",
       "8758    58     0    0         1        1  36.0     0         0.0        0.0   \n",
       "11098   67     0    1         1        0  45.0     0         0.0        0.0   \n",
       "11313   46     0    0         1        1  12.0     0         0.0        0.0   \n",
       "\n",
       "       sum_wage  ...  grad_tech1  grad_tech2  grad_uni  fo_privolzh  fo_south  \\\n",
       "2117    12200.0  ...           1           0         0            0         0   \n",
       "2818    14000.0  ...           0           1         0            0         0   \n",
       "5138    11300.0  ...           0           1         0            0         1   \n",
       "7333    17000.0  ...           0           1         0            0         0   \n",
       "8758    11100.0  ...           0           1         0            0         0   \n",
       "11098   20500.0  ...           0           0         0            1         0   \n",
       "11313    6100.0  ...           0           0         0            0         1   \n",
       "\n",
       "       fo_trans-urals  fo_ural  dis_1  dis_2  dis_3  \n",
       "2117                0        1      0      0      0  \n",
       "2818                0        0      0      0      0  \n",
       "5138                0        0      0      0      0  \n",
       "7333                1        0      0      0      0  \n",
       "8758                0        0      0      0      0  \n",
       "11098               0        0      0      0      0  \n",
       "11313               0        0      0      0      0  \n",
       "\n",
       "[7 rows x 28 columns]"
      ]
     },
     "execution_count": 177,
     "metadata": {},
     "output_type": "execute_result"
    }
   ],
   "source": [
    "wage_df.loc[(wage_df['disabled'] == 1) & (wage_df['dis_1'] == 0) & (wage_df['dis_2'] == 0) & (wage_df['dis_3'] == 0)]"
   ]
  },
  {
   "cell_type": "markdown",
   "metadata": {},
   "source": [
    "# Save df for project"
   ]
  },
  {
   "cell_type": "code",
   "execution_count": 178,
   "metadata": {},
   "outputs": [],
   "source": [
    "wage_df.to_excel('wage_data_8.xlsx', index=False)"
   ]
  },
  {
   "cell_type": "code",
   "execution_count": 179,
   "metadata": {},
   "outputs": [
    {
     "data": {
      "text/plain": [
       "(9079, 28)"
      ]
     },
     "execution_count": 179,
     "metadata": {},
     "output_type": "execute_result"
    }
   ],
   "source": [
    "wage_df.shape"
   ]
  },
  {
   "cell_type": "code",
   "execution_count": 180,
   "metadata": {},
   "outputs": [
    {
     "data": {
      "text/plain": [
       "age                 int64\n",
       "male                int64\n",
       "ill                 int64\n",
       "disabled            int64\n",
       "married             int64\n",
       "exp               float64\n",
       "work                int64\n",
       "hour_month        float64\n",
       "last_wage         float64\n",
       "sum_wage          float64\n",
       "n_kids            float64\n",
       "age_sq              int64\n",
       "kids                int64\n",
       "female              int64\n",
       "nl_income         float64\n",
       "fem_mar             int64\n",
       "last_wage_hour    float64\n",
       "grad_sch            uint8\n",
       "grad_tech1          uint8\n",
       "grad_tech2          uint8\n",
       "grad_uni            uint8\n",
       "fo_privolzh         uint8\n",
       "fo_south            uint8\n",
       "fo_trans-urals      uint8\n",
       "fo_ural             uint8\n",
       "dis_1               uint8\n",
       "dis_2               uint8\n",
       "dis_3               uint8\n",
       "dtype: object"
      ]
     },
     "execution_count": 180,
     "metadata": {},
     "output_type": "execute_result"
    }
   ],
   "source": [
    "wage_df.dtypes"
   ]
  },
  {
   "cell_type": "markdown",
   "metadata": {},
   "source": [
    "_______"
   ]
  },
  {
   "cell_type": "markdown",
   "metadata": {},
   "source": [
    "_____"
   ]
  },
  {
   "cell_type": "markdown",
   "metadata": {},
   "source": [
    "# Unique families"
   ]
  },
  {
   "cell_type": "code",
   "execution_count": 182,
   "metadata": {},
   "outputs": [],
   "source": [
    "df['code'] = (df['regionx'].astype('str') + df['familyx'].astype('str')).astype('int')"
   ]
  },
  {
   "cell_type": "code",
   "execution_count": 183,
   "metadata": {},
   "outputs": [
    {
     "data": {
      "text/plain": [
       "6355"
      ]
     },
     "execution_count": 183,
     "metadata": {},
     "output_type": "execute_result"
    }
   ],
   "source": [
    "df['code'].nunique()"
   ]
  },
  {
   "cell_type": "code",
   "execution_count": 185,
   "metadata": {},
   "outputs": [],
   "source": [
    "un_dict = {}\n",
    "for i in range(len(df['code'].unique())):\n",
    "    un_dict[df['code'].unique()[i]] = i+1    "
   ]
  },
  {
   "cell_type": "code",
   "execution_count": 186,
   "metadata": {},
   "outputs": [],
   "source": [
    "df['code'] = df['code'].map(un_dict)"
   ]
  },
  {
   "cell_type": "markdown",
   "metadata": {},
   "source": [
    "### Amount of members"
   ]
  },
  {
   "cell_type": "code",
   "execution_count": 100,
   "metadata": {},
   "outputs": [],
   "source": [
    "am_df = df[['code', 'personx']].groupby('code', as_index=False).max()\n",
    "am_dict = {}\n",
    "for i in range(am_df.shape[0]):\n",
    "    am_dict[am_df['code'][i]] = am_df['personx'][i]"
   ]
  },
  {
   "cell_type": "code",
   "execution_count": 101,
   "metadata": {},
   "outputs": [],
   "source": [
    "df['member'] = df['code'].map(am_dict)"
   ]
  },
  {
   "cell_type": "code",
   "execution_count": 187,
   "metadata": {},
   "outputs": [
    {
     "data": {
      "text/html": [
       "<div>\n",
       "<style scoped>\n",
       "    .dataframe tbody tr th:only-of-type {\n",
       "        vertical-align: middle;\n",
       "    }\n",
       "\n",
       "    .dataframe tbody tr th {\n",
       "        vertical-align: top;\n",
       "    }\n",
       "\n",
       "    .dataframe thead th {\n",
       "        text-align: right;\n",
       "    }\n",
       "</style>\n",
       "<table border=\"1\" class=\"dataframe\">\n",
       "  <thead>\n",
       "    <tr style=\"text-align: right;\">\n",
       "      <th></th>\n",
       "      <th>regionx</th>\n",
       "      <th>familyx</th>\n",
       "      <th>personx</th>\n",
       "      <th>round</th>\n",
       "      <th>sitex</th>\n",
       "      <th>tid</th>\n",
       "      <th>inadult</th>\n",
       "      <th>inmoverx</th>\n",
       "      <th>inwgt_x</th>\n",
       "      <th>ixgender</th>\n",
       "      <th>...</th>\n",
       "      <th>FLEAVE_X</th>\n",
       "      <th>UNEM_B_X</th>\n",
       "      <th>UNEM_G_X</th>\n",
       "      <th>UNEM_S_X</th>\n",
       "      <th>UN_DUR_X</th>\n",
       "      <th>code</th>\n",
       "      <th>member</th>\n",
       "      <th>sen_member</th>\n",
       "      <th>mid_member</th>\n",
       "      <th>kid_sum</th>\n",
       "    </tr>\n",
       "  </thead>\n",
       "  <tbody>\n",
       "    <tr>\n",
       "      <th>657</th>\n",
       "      <td>71</td>\n",
       "      <td>174</td>\n",
       "      <td>2</td>\n",
       "      <td>24</td>\n",
       "      <td>71</td>\n",
       "      <td>71017402</td>\n",
       "      <td>1</td>\n",
       "      <td>0</td>\n",
       "      <td>0.700037</td>\n",
       "      <td>2</td>\n",
       "      <td>...</td>\n",
       "      <td>NaN</td>\n",
       "      <td>NaN</td>\n",
       "      <td>NaN</td>\n",
       "      <td>NaN</td>\n",
       "      <td>NaN</td>\n",
       "      <td>622</td>\n",
       "      <td>4</td>\n",
       "      <td>1</td>\n",
       "      <td>3</td>\n",
       "      <td>0</td>\n",
       "    </tr>\n",
       "    <tr>\n",
       "      <th>10114</th>\n",
       "      <td>1</td>\n",
       "      <td>237</td>\n",
       "      <td>5</td>\n",
       "      <td>24</td>\n",
       "      <td>1</td>\n",
       "      <td>1023705</td>\n",
       "      <td>1</td>\n",
       "      <td>1</td>\n",
       "      <td>0.000000</td>\n",
       "      <td>1</td>\n",
       "      <td>...</td>\n",
       "      <td>0.0</td>\n",
       "      <td>0.0</td>\n",
       "      <td>0.0</td>\n",
       "      <td>0.0</td>\n",
       "      <td>NaN</td>\n",
       "      <td>5310</td>\n",
       "      <td>6</td>\n",
       "      <td>0</td>\n",
       "      <td>9</td>\n",
       "      <td>0</td>\n",
       "    </tr>\n",
       "    <tr>\n",
       "      <th>9857</th>\n",
       "      <td>58</td>\n",
       "      <td>6</td>\n",
       "      <td>10</td>\n",
       "      <td>24</td>\n",
       "      <td>58</td>\n",
       "      <td>58000610</td>\n",
       "      <td>1</td>\n",
       "      <td>1</td>\n",
       "      <td>0.000000</td>\n",
       "      <td>1</td>\n",
       "      <td>...</td>\n",
       "      <td>0.0</td>\n",
       "      <td>0.0</td>\n",
       "      <td>0.0</td>\n",
       "      <td>0.0</td>\n",
       "      <td>NaN</td>\n",
       "      <td>5147</td>\n",
       "      <td>10</td>\n",
       "      <td>0</td>\n",
       "      <td>3</td>\n",
       "      <td>0</td>\n",
       "    </tr>\n",
       "  </tbody>\n",
       "</table>\n",
       "<p>3 rows × 747 columns</p>\n",
       "</div>"
      ],
      "text/plain": [
       "       regionx  familyx  personx  round  sitex       tid  inadult  inmoverx  \\\n",
       "657         71      174        2     24     71  71017402        1         0   \n",
       "10114        1      237        5     24      1   1023705        1         1   \n",
       "9857        58        6       10     24     58  58000610        1         1   \n",
       "\n",
       "        inwgt_x  ixgender  ...  FLEAVE_X  UNEM_B_X  UNEM_G_X  UNEM_S_X  \\\n",
       "657    0.700037         2  ...       NaN       NaN       NaN       NaN   \n",
       "10114  0.000000         1  ...       0.0       0.0       0.0       0.0   \n",
       "9857   0.000000         1  ...       0.0       0.0       0.0       0.0   \n",
       "\n",
       "       UN_DUR_X  code  member  sen_member  mid_member  kid_sum  \n",
       "657         NaN   622       4           1           3        0  \n",
       "10114       NaN  5310       6           0           9        0  \n",
       "9857        NaN  5147      10           0           3        0  \n",
       "\n",
       "[3 rows x 747 columns]"
      ]
     },
     "execution_count": 187,
     "metadata": {},
     "output_type": "execute_result"
    }
   ],
   "source": [
    "df.sample(3)"
   ]
  },
  {
   "cell_type": "markdown",
   "metadata": {},
   "source": [
    "### Senior people"
   ]
  },
  {
   "cell_type": "code",
   "execution_count": 191,
   "metadata": {},
   "outputs": [],
   "source": [
    "sen_df = df.loc[df['ixbirthy'] < 1950, ['code', 'ixbirthy']].groupby('code', as_index=False).count()\n",
    "sen_dict = {}\n",
    "for i in range(sen_df.shape[0]):\n",
    "    sen_dict[sen_df['code'][i]] = sen_df['ixbirthy'][i]"
   ]
  },
  {
   "cell_type": "code",
   "execution_count": 192,
   "metadata": {},
   "outputs": [],
   "source": [
    "df['sen_member'] = df['code'].map(sen_dict)\n",
    "df['sen_member'] = df['sen_member'].fillna(0).astype('int')"
   ]
  },
  {
   "cell_type": "markdown",
   "metadata": {},
   "source": [
    "### Middle"
   ]
  },
  {
   "cell_type": "code",
   "execution_count": 193,
   "metadata": {},
   "outputs": [],
   "source": [
    "mid_df = df.loc[df['ixbirthy'] >= 1950, ['code', 'ixbirthy']].groupby('code', as_index=False).count()\n",
    "mid_dict = {}\n",
    "for i in range(mid_df.shape[0]):\n",
    "    mid_dict[mid_df['code'][i]] = mid_df['ixbirthy'][i]"
   ]
  },
  {
   "cell_type": "code",
   "execution_count": 194,
   "metadata": {},
   "outputs": [],
   "source": [
    "df['mid_member'] = df['code'].map(mid_dict)\n",
    "df['mid_member'] = df['mid_member'].fillna(0).astype('int')"
   ]
  },
  {
   "cell_type": "code",
   "execution_count": 195,
   "metadata": {},
   "outputs": [
    {
     "data": {
      "text/html": [
       "<div>\n",
       "<style scoped>\n",
       "    .dataframe tbody tr th:only-of-type {\n",
       "        vertical-align: middle;\n",
       "    }\n",
       "\n",
       "    .dataframe tbody tr th {\n",
       "        vertical-align: top;\n",
       "    }\n",
       "\n",
       "    .dataframe thead th {\n",
       "        text-align: right;\n",
       "    }\n",
       "</style>\n",
       "<table border=\"1\" class=\"dataframe\">\n",
       "  <thead>\n",
       "    <tr style=\"text-align: right;\">\n",
       "      <th></th>\n",
       "      <th>regionx</th>\n",
       "      <th>familyx</th>\n",
       "      <th>personx</th>\n",
       "      <th>round</th>\n",
       "      <th>sitex</th>\n",
       "      <th>tid</th>\n",
       "      <th>inadult</th>\n",
       "      <th>inmoverx</th>\n",
       "      <th>inwgt_x</th>\n",
       "      <th>ixgender</th>\n",
       "      <th>...</th>\n",
       "      <th>FLEAVE_X</th>\n",
       "      <th>UNEM_B_X</th>\n",
       "      <th>UNEM_G_X</th>\n",
       "      <th>UNEM_S_X</th>\n",
       "      <th>UN_DUR_X</th>\n",
       "      <th>code</th>\n",
       "      <th>member</th>\n",
       "      <th>sen_member</th>\n",
       "      <th>mid_member</th>\n",
       "      <th>kid_sum</th>\n",
       "    </tr>\n",
       "  </thead>\n",
       "  <tbody>\n",
       "    <tr>\n",
       "      <th>10505</th>\n",
       "      <td>14</td>\n",
       "      <td>61</td>\n",
       "      <td>2</td>\n",
       "      <td>24</td>\n",
       "      <td>16</td>\n",
       "      <td>14006102</td>\n",
       "      <td>1</td>\n",
       "      <td>0</td>\n",
       "      <td>0.935943</td>\n",
       "      <td>2</td>\n",
       "      <td>...</td>\n",
       "      <td>0.0</td>\n",
       "      <td>0.0</td>\n",
       "      <td>0.0</td>\n",
       "      <td>0.0</td>\n",
       "      <td>NaN</td>\n",
       "      <td>5527</td>\n",
       "      <td>2</td>\n",
       "      <td>0</td>\n",
       "      <td>2</td>\n",
       "      <td>0</td>\n",
       "    </tr>\n",
       "    <tr>\n",
       "      <th>1812</th>\n",
       "      <td>100</td>\n",
       "      <td>94</td>\n",
       "      <td>1</td>\n",
       "      <td>24</td>\n",
       "      <td>100</td>\n",
       "      <td>100009401</td>\n",
       "      <td>1</td>\n",
       "      <td>0</td>\n",
       "      <td>0.700037</td>\n",
       "      <td>2</td>\n",
       "      <td>...</td>\n",
       "      <td>NaN</td>\n",
       "      <td>NaN</td>\n",
       "      <td>NaN</td>\n",
       "      <td>NaN</td>\n",
       "      <td>NaN</td>\n",
       "      <td>1577</td>\n",
       "      <td>1</td>\n",
       "      <td>1</td>\n",
       "      <td>0</td>\n",
       "      <td>0</td>\n",
       "    </tr>\n",
       "    <tr>\n",
       "      <th>12323</th>\n",
       "      <td>71</td>\n",
       "      <td>125</td>\n",
       "      <td>4</td>\n",
       "      <td>24</td>\n",
       "      <td>71</td>\n",
       "      <td>71012504</td>\n",
       "      <td>1</td>\n",
       "      <td>0</td>\n",
       "      <td>1.286979</td>\n",
       "      <td>1</td>\n",
       "      <td>...</td>\n",
       "      <td>0.0</td>\n",
       "      <td>0.0</td>\n",
       "      <td>0.0</td>\n",
       "      <td>0.0</td>\n",
       "      <td>NaN</td>\n",
       "      <td>5887</td>\n",
       "      <td>4</td>\n",
       "      <td>0</td>\n",
       "      <td>3</td>\n",
       "      <td>0</td>\n",
       "    </tr>\n",
       "  </tbody>\n",
       "</table>\n",
       "<p>3 rows × 747 columns</p>\n",
       "</div>"
      ],
      "text/plain": [
       "       regionx  familyx  personx  round  sitex        tid  inadult  inmoverx  \\\n",
       "10505       14       61        2     24     16   14006102        1         0   \n",
       "1812       100       94        1     24    100  100009401        1         0   \n",
       "12323       71      125        4     24     71   71012504        1         0   \n",
       "\n",
       "        inwgt_x  ixgender  ...  FLEAVE_X  UNEM_B_X  UNEM_G_X  UNEM_S_X  \\\n",
       "10505  0.935943         2  ...       0.0       0.0       0.0       0.0   \n",
       "1812   0.700037         2  ...       NaN       NaN       NaN       NaN   \n",
       "12323  1.286979         1  ...       0.0       0.0       0.0       0.0   \n",
       "\n",
       "       UN_DUR_X  code  member  sen_member  mid_member  kid_sum  \n",
       "10505       NaN  5527       2           0           2        0  \n",
       "1812        NaN  1577       1           1           0        0  \n",
       "12323       NaN  5887       4           0           3        0  \n",
       "\n",
       "[3 rows x 747 columns]"
      ]
     },
     "execution_count": 195,
     "metadata": {},
     "output_type": "execute_result"
    }
   ],
   "source": [
    "df.sample(3)"
   ]
  },
  {
   "cell_type": "markdown",
   "metadata": {},
   "source": [
    "### Kids"
   ]
  },
  {
   "cell_type": "code",
   "execution_count": 108,
   "metadata": {},
   "outputs": [],
   "source": [
    "kid_df = df[['code', 'ixnykids']].groupby('code', as_index=False).sum()\n",
    "kid_dict = {}\n",
    "for i in range(kid_df.shape[0]):\n",
    "    kid_dict[kid_df['code'][i]] = kid_df['ixnykids'][i]"
   ]
  },
  {
   "cell_type": "code",
   "execution_count": 109,
   "metadata": {},
   "outputs": [],
   "source": [
    "df['kid_sum'] = df['code'].map(kid_dict)\n",
    "df['kid_sum'] = df['kid_sum'].fillna(0).astype('int')"
   ]
  },
  {
   "cell_type": "code",
   "execution_count": 192,
   "metadata": {},
   "outputs": [],
   "source": [
    "df['kid'] = np.ceil(df['kid_sum'] / df['mid_member']).fillna(0).astype('int')"
   ]
  },
  {
   "cell_type": "code",
   "execution_count": 193,
   "metadata": {
    "scrolled": true
   },
   "outputs": [
    {
     "data": {
      "text/html": [
       "<div>\n",
       "<style scoped>\n",
       "    .dataframe tbody tr th:only-of-type {\n",
       "        vertical-align: middle;\n",
       "    }\n",
       "\n",
       "    .dataframe tbody tr th {\n",
       "        vertical-align: top;\n",
       "    }\n",
       "\n",
       "    .dataframe thead th {\n",
       "        text-align: right;\n",
       "    }\n",
       "</style>\n",
       "<table border=\"1\" class=\"dataframe\">\n",
       "  <thead>\n",
       "    <tr style=\"text-align: right;\">\n",
       "      <th></th>\n",
       "      <th>code</th>\n",
       "      <th>member</th>\n",
       "      <th>sen_member</th>\n",
       "      <th>mid_member</th>\n",
       "      <th>kid_sum</th>\n",
       "      <th>kid</th>\n",
       "    </tr>\n",
       "  </thead>\n",
       "  <tbody>\n",
       "    <tr>\n",
       "      <th>23</th>\n",
       "      <td>24</td>\n",
       "      <td>2</td>\n",
       "      <td>2</td>\n",
       "      <td>0</td>\n",
       "      <td>0</td>\n",
       "      <td>0</td>\n",
       "    </tr>\n",
       "    <tr>\n",
       "      <th>28</th>\n",
       "      <td>28</td>\n",
       "      <td>2</td>\n",
       "      <td>2</td>\n",
       "      <td>0</td>\n",
       "      <td>0</td>\n",
       "      <td>0</td>\n",
       "    </tr>\n",
       "  </tbody>\n",
       "</table>\n",
       "</div>"
      ],
      "text/plain": [
       "    code  member  sen_member  mid_member  kid_sum  kid\n",
       "23    24       2           2           0        0    0\n",
       "28    28       2           2           0        0    0"
      ]
     },
     "execution_count": 193,
     "metadata": {},
     "output_type": "execute_result"
    }
   ],
   "source": [
    "df.loc[df.mid_member ==0, ['code', 'member','sen_member', 'mid_member', 'kid_sum', 'kid']].head(2)"
   ]
  },
  {
   "cell_type": "markdown",
   "metadata": {},
   "source": [
    "# Merge df"
   ]
  },
  {
   "cell_type": "code",
   "execution_count": 196,
   "metadata": {},
   "outputs": [],
   "source": [
    "columns_to_merge = ['code', 'member', 'sen_member']"
   ]
  },
  {
   "cell_type": "code",
   "execution_count": 261,
   "metadata": {},
   "outputs": [],
   "source": [
    "#est_wages = pd.read_csv('wage_est_xlsx.csv') #wait for Max's wages"
   ]
  },
  {
   "cell_type": "code",
   "execution_count": 300,
   "metadata": {},
   "outputs": [],
   "source": [
    "est_wages.loc[est_wages['wage_1'] < 0, 'wage_1'] = 0\n",
    "est_wages.loc[est_wages['wage_2'] < 0, 'wage_2'] = 0\n",
    "est_wages.loc[est_wages['wage_3'] < 0, 'wage_3'] = 0\n",
    "est_wages.loc[est_wages['wage_4'] < 0, 'wage_4'] = 0"
   ]
  },
  {
   "cell_type": "code",
   "execution_count": 197,
   "metadata": {},
   "outputs": [],
   "source": [
    "family_df = wage_df.join(df[columns_to_merge])\n",
    "family_df.reset_index(drop=True, inplace=True)\n",
    "#family_df = family_df.join(est_wages)"
   ]
  },
  {
   "cell_type": "code",
   "execution_count": 311,
   "metadata": {},
   "outputs": [],
   "source": [
    "family_df = family_df.join(est_wages)"
   ]
  },
  {
   "cell_type": "code",
   "execution_count": 312,
   "metadata": {},
   "outputs": [
    {
     "data": {
      "text/plain": [
       "((9130, 34), (9130, 4))"
      ]
     },
     "execution_count": 312,
     "metadata": {},
     "output_type": "execute_result"
    }
   ],
   "source": [
    "family_df.shape, est_wages.shape"
   ]
  },
  {
   "cell_type": "code",
   "execution_count": 199,
   "metadata": {},
   "outputs": [
    {
     "data": {
      "text/plain": [
       "Index(['age', 'male', 'ill', 'disabled', 'married', 'exp', 'work',\n",
       "       'hour_month', 'last_wage', 'sum_wage', 'n_kids', 'age_sq', 'kids',\n",
       "       'female', 'nl_income', 'fem_mar', 'last_wage_hour', 'grad_sch',\n",
       "       'grad_tech1', 'grad_tech2', 'grad_uni', 'fo_privolzh', 'fo_south',\n",
       "       'fo_trans-urals', 'fo_ural', 'dis_1', 'dis_2', 'dis_3', 'code',\n",
       "       'member', 'sen_member'],\n",
       "      dtype='object')"
      ]
     },
     "execution_count": 199,
     "metadata": {},
     "output_type": "execute_result"
    }
   ],
   "source": [
    "family_df.columns"
   ]
  },
  {
   "cell_type": "markdown",
   "metadata": {},
   "source": [
    "# Aggregate df"
   ]
  },
  {
   "cell_type": "code",
   "execution_count": 204,
   "metadata": {},
   "outputs": [],
   "source": [
    "columns_to_agg = columns_to_merge"
   ]
  },
  {
   "cell_type": "code",
   "execution_count": 205,
   "metadata": {},
   "outputs": [
    {
     "data": {
      "text/plain": [
       "Index(['age', 'male', 'ill', 'disabled', 'married', 'exp', 'work',\n",
       "       'hour_month', 'last_wage', 'sum_wage', 'n_kids', 'age_sq', 'kids',\n",
       "       'female', 'nl_income', 'fem_mar', 'last_wage_hour', 'grad_sch',\n",
       "       'grad_tech1', 'grad_tech2', 'grad_uni', 'fo_privolzh', 'fo_south',\n",
       "       'fo_trans-urals', 'fo_ural', 'dis_1', 'dis_2', 'dis_3', 'code',\n",
       "       'member', 'sen_member'],\n",
       "      dtype='object')"
      ]
     },
     "execution_count": 205,
     "metadata": {},
     "output_type": "execute_result"
    }
   ],
   "source": [
    "family_df.columns"
   ]
  },
  {
   "cell_type": "code",
   "execution_count": 206,
   "metadata": {},
   "outputs": [],
   "source": [
    "final_df = family_df[columns_to_agg].groupby('code', as_index=False).max()\n",
    "final_df = final_df.join(family_df[['code', 'hour_month', 'disabled', 'nl_income']] \\\n",
    "                         .groupby('code', as_index=False).sum().iloc[:, 1:])"
   ]
  },
  {
   "cell_type": "code",
   "execution_count": 321,
   "metadata": {},
   "outputs": [],
   "source": [
    "final_df = final_df.join(family_df[['code'] + list(est_wages.columns)] \\\n",
    "                         .groupby('code', as_index=False).sum().iloc[:, 1:])"
   ]
  },
  {
   "cell_type": "markdown",
   "metadata": {},
   "source": [
    "### Dict for disabled"
   ]
  },
  {
   "cell_type": "code",
   "execution_count": 208,
   "metadata": {},
   "outputs": [
    {
     "data": {
      "text/plain": [
       "0    4510\n",
       "1     683\n",
       "2      58\n",
       "3       1\n",
       "4       1\n",
       "Name: disabled, dtype: int64"
      ]
     },
     "execution_count": 208,
     "metadata": {},
     "output_type": "execute_result"
    }
   ],
   "source": [
    "final_df['disabled'].value_counts()"
   ]
  },
  {
   "cell_type": "code",
   "execution_count": 211,
   "metadata": {},
   "outputs": [
    {
     "data": {
      "text/plain": [
       "2"
      ]
     },
     "execution_count": 211,
     "metadata": {},
     "output_type": "execute_result"
    }
   ],
   "source": [
    "final_df['code'][1]"
   ]
  },
  {
   "cell_type": "code",
   "execution_count": 212,
   "metadata": {},
   "outputs": [],
   "source": [
    "dis_dict = {}\n",
    "for i in range(final_df.shape[0]):\n",
    "    dis_dict[final_df['code'][i]] = final_df['disabled'][i]\n"
   ]
  },
  {
   "cell_type": "code",
   "execution_count": 215,
   "metadata": {},
   "outputs": [],
   "source": [
    "family_df['n_dis'] = family_df['code'].map(dis_dict)"
   ]
  },
  {
   "cell_type": "code",
   "execution_count": 218,
   "metadata": {},
   "outputs": [
    {
     "data": {
      "text/plain": [
       "0    7683\n",
       "1    1250\n",
       "2     139\n",
       "4       4\n",
       "3       3\n",
       "Name: n_dis, dtype: int64"
      ]
     },
     "execution_count": 218,
     "metadata": {},
     "output_type": "execute_result"
    }
   ],
   "source": [
    "family_df['n_dis'].value_counts()"
   ]
  },
  {
   "cell_type": "code",
   "execution_count": 219,
   "metadata": {},
   "outputs": [
    {
     "data": {
      "text/plain": [
       "age               0\n",
       "male              0\n",
       "ill               0\n",
       "disabled          0\n",
       "married           0\n",
       "exp               0\n",
       "work              0\n",
       "hour_month        0\n",
       "last_wage         0\n",
       "sum_wage          0\n",
       "n_kids            0\n",
       "age_sq            0\n",
       "kids              0\n",
       "female            0\n",
       "nl_income         0\n",
       "fem_mar           0\n",
       "last_wage_hour    0\n",
       "grad_sch          0\n",
       "grad_tech1        0\n",
       "grad_tech2        0\n",
       "grad_uni          0\n",
       "fo_privolzh       0\n",
       "fo_south          0\n",
       "fo_trans-urals    0\n",
       "fo_ural           0\n",
       "dis_1             0\n",
       "dis_2             0\n",
       "dis_3             0\n",
       "code              0\n",
       "member            0\n",
       "sen_member        0\n",
       "n_dis             0\n",
       "dtype: int64"
      ]
     },
     "execution_count": 219,
     "metadata": {},
     "output_type": "execute_result"
    }
   ],
   "source": [
    "family_df.isna().sum()"
   ]
  },
  {
   "cell_type": "markdown",
   "metadata": {},
   "source": [
    "# Save family df"
   ]
  },
  {
   "cell_type": "code",
   "execution_count": 222,
   "metadata": {},
   "outputs": [],
   "source": [
    "columns_fam = ['age', 'age_sq', 'female', 'married', 'fem_mar', \n",
    "              'exp', 'n_kids', 'kids', 'grad_sch', 'grad_tech1', 'grad_tech2', 'grad_uni',\n",
    "              'fo_privolzh', 'fo_south', 'fo_trans-urals', 'fo_ural',\n",
    "              'dis_1', 'dis_2', 'dis_3',\n",
    "              'member', 'sen_member', 'n_dis']"
   ]
  },
  {
   "cell_type": "code",
   "execution_count": 224,
   "metadata": {},
   "outputs": [],
   "source": [
    "family_df[columns_fam].to_excel('family_df1.xlsx', index=False)"
   ]
  },
  {
   "cell_type": "code",
   "execution_count": 221,
   "metadata": {},
   "outputs": [
    {
     "data": {
      "text/plain": [
       "Index(['age', 'male', 'ill', 'disabled', 'married', 'exp', 'work',\n",
       "       'hour_month', 'last_wage', 'sum_wage', 'n_kids', 'age_sq', 'kids',\n",
       "       'female', 'nl_income', 'fem_mar', 'last_wage_hour', 'grad_sch',\n",
       "       'grad_tech1', 'grad_tech2', 'grad_uni', 'fo_privolzh', 'fo_south',\n",
       "       'fo_trans-urals', 'fo_ural', 'dis_1', 'dis_2', 'dis_3', 'code',\n",
       "       'member', 'sen_member', 'n_dis'],\n",
       "      dtype='object')"
      ]
     },
     "execution_count": 221,
     "metadata": {},
     "output_type": "execute_result"
    }
   ],
   "source": [
    "family_df.columns"
   ]
  },
  {
   "cell_type": "code",
   "execution_count": 225,
   "metadata": {},
   "outputs": [
    {
     "data": {
      "text/plain": [
       "(9079, 22)"
      ]
     },
     "execution_count": 225,
     "metadata": {},
     "output_type": "execute_result"
    }
   ],
   "source": [
    "family_df[columns_fam].shape"
   ]
  },
  {
   "cell_type": "markdown",
   "metadata": {},
   "source": [
    "#### For wages"
   ]
  },
  {
   "cell_type": "code",
   "execution_count": 579,
   "metadata": {},
   "outputs": [],
   "source": [
    "columns_wage = [col for col in family_df.columns if 'wage' in col]\n",
    "columns_wage = columns_wage[3:] + ['code']"
   ]
  },
  {
   "cell_type": "code",
   "execution_count": 584,
   "metadata": {},
   "outputs": [],
   "source": [
    "final_df = final_df.join(family_df[columns_wage].groupby('code', as_index=False).sum().iloc[:, 1:])"
   ]
  },
  {
   "cell_type": "markdown",
   "metadata": {},
   "source": [
    "# Save df for project"
   ]
  },
  {
   "cell_type": "markdown",
   "metadata": {},
   "source": [
    "##### shape names"
   ]
  },
  {
   "cell_type": "code",
   "execution_count": 596,
   "metadata": {},
   "outputs": [],
   "source": [
    "final_df.columns = ['code', 'member', 'sen_member', 'mid_member', 'kid_sum', 'kid', \n",
    "                    'privolzh', 'south', 'trans-urals', 'ural', \n",
    "                    'wage1', 'wage2', 'wage4', 'wage3', 'wage5', 'sum_hour']"
   ]
  },
  {
   "cell_type": "code",
   "execution_count": 295,
   "metadata": {},
   "outputs": [],
   "source": [
    "final_df.rename(columns = {'rest_wage': 'nl_income'}, inplace=True)"
   ]
  },
  {
   "cell_type": "code",
   "execution_count": 323,
   "metadata": {},
   "outputs": [],
   "source": [
    "final_df.to_excel('final_df5.xlsx', index=False)"
   ]
  },
  {
   "cell_type": "code",
   "execution_count": 298,
   "metadata": {},
   "outputs": [
    {
     "data": {
      "text/plain": [
       "code           0\n",
       "member         0\n",
       "sen_member     0\n",
       "mid_member     0\n",
       "kid_sum        0\n",
       "kid            0\n",
       "privolzh       0\n",
       "south          0\n",
       "trans-urals    0\n",
       "ural           0\n",
       "hour_month     0\n",
       "disabled       0\n",
       "nl_income      0\n",
       "wage_1         0\n",
       "wage_2         0\n",
       "wage_3         0\n",
       "wage_4         0\n",
       "dtype: int64"
      ]
     },
     "execution_count": 298,
     "metadata": {},
     "output_type": "execute_result"
    }
   ],
   "source": [
    "final_df.isna().sum()"
   ]
  },
  {
   "cell_type": "code",
   "execution_count": 226,
   "metadata": {},
   "outputs": [],
   "source": [
    "fam_df = pd.read_excel('family_df2_2.xlsx')"
   ]
  },
  {
   "cell_type": "code",
   "execution_count": 249,
   "metadata": {},
   "outputs": [],
   "source": [
    "fam_df[['nl_income', 'hour_month', 'disabled']] = family_df[['nl_income', 'hour_month', 'disabled']]\n",
    "fam_df['sen_member_bin'] = 0\n",
    "fam_df.loc[fam_df['sen_member'] > 0, 'sen_member_bin'] = 1\n",
    "fam_df['dis_bin'] = 0\n",
    "fam_df.loc[fam_df['disabled'] > 0, 'dis_bin'] = 1\n",
    "fam_df['nl_income_th'] = fam_df['nl_income'] / 1000\n",
    "\n",
    "fam_df['sen_member_65'] = 0\n",
    "fam_df.loc[fam_df['age'] > 65, 'sen_member_65'] = 1\n",
    "fam_df['sen_member_others'] = fam_df['sen_member'] - fam_df['sen_member_65']\n",
    "\n",
    "fam_df['n_dis_others'] = fam_df['n_dis'] - fam_df['disabled']"
   ]
  },
  {
   "cell_type": "code",
   "execution_count": 242,
   "metadata": {},
   "outputs": [],
   "source": [
    "fam_df.rename(columns={'fo_privolzh': 'privolzh', 'fo_south': 'south',\n",
    "                       'fo_trans-urals': 'trans-urals', 'fo_ural': 'ural'}, inplace=True)"
   ]
  },
  {
   "cell_type": "code",
   "execution_count": 243,
   "metadata": {},
   "outputs": [
    {
     "data": {
      "text/plain": [
       "Index(['age', 'age_sq', 'female', 'married', 'fem_mar', 'exp', 'n_kids',\n",
       "       'kids', 'grad_sch', 'grad_tech1', 'grad_tech2', 'grad_uni', 'privolzh',\n",
       "       'south', 'trans-urals', 'ural', 'dis_1', 'dis_2', 'dis_3', 'member',\n",
       "       'sen_member', 'n_dis', 'wage1', 'wage2', 'nl_income', 'hour_month',\n",
       "       'disabled', 'sen_member_bin', 'dis_bin', 'nl_income_th'],\n",
       "      dtype='object')"
      ]
     },
     "execution_count": 243,
     "metadata": {},
     "output_type": "execute_result"
    }
   ],
   "source": [
    "fam_df.columns"
   ]
  },
  {
   "cell_type": "code",
   "execution_count": 253,
   "metadata": {},
   "outputs": [],
   "source": [
    "fam_df.to_excel('family_df5.xlsx', index=False)"
   ]
  },
  {
   "cell_type": "code",
   "execution_count": 234,
   "metadata": {},
   "outputs": [
    {
     "data": {
      "text/plain": [
       "720"
      ]
     },
     "execution_count": 234,
     "metadata": {},
     "output_type": "execute_result"
    }
   ],
   "source": [
    "24 * 30"
   ]
  },
  {
   "cell_type": "code",
   "execution_count": 235,
   "metadata": {},
   "outputs": [
    {
     "data": {
      "text/plain": [
       "890.0"
      ]
     },
     "execution_count": 235,
     "metadata": {},
     "output_type": "execute_result"
    }
   ],
   "source": [
    "fam_df['hour_month'].max()"
   ]
  },
  {
   "cell_type": "code",
   "execution_count": 246,
   "metadata": {},
   "outputs": [
    {
     "data": {
      "text/plain": [
       "(9079, 33)"
      ]
     },
     "execution_count": 246,
     "metadata": {},
     "output_type": "execute_result"
    }
   ],
   "source": [
    "fam_df.shape"
   ]
  },
  {
   "cell_type": "code",
   "execution_count": 252,
   "metadata": {},
   "outputs": [
    {
     "data": {
      "text/plain": [
       "0    8366\n",
       "1     683\n",
       "2      26\n",
       "3       4\n",
       "Name: n_dis_others, dtype: int64"
      ]
     },
     "execution_count": 252,
     "metadata": {},
     "output_type": "execute_result"
    }
   ],
   "source": [
    "fam_df['n_dis_others'].value_counts()"
   ]
  },
  {
   "cell_type": "code",
   "execution_count": 232,
   "metadata": {},
   "outputs": [
    {
     "data": {
      "text/plain": [
       "(9079, 24)"
      ]
     },
     "execution_count": 232,
     "metadata": {},
     "output_type": "execute_result"
    }
   ],
   "source": [
    "pd.read_excel('family_df2_2.xlsx').shape"
   ]
  },
  {
   "cell_type": "markdown",
   "metadata": {},
   "source": [
    "# Try to fill negative to 0"
   ]
  },
  {
   "cell_type": "code",
   "execution_count": 322,
   "metadata": {},
   "outputs": [
    {
     "data": {
      "text/html": [
       "<div>\n",
       "<style scoped>\n",
       "    .dataframe tbody tr th:only-of-type {\n",
       "        vertical-align: middle;\n",
       "    }\n",
       "\n",
       "    .dataframe tbody tr th {\n",
       "        vertical-align: top;\n",
       "    }\n",
       "\n",
       "    .dataframe thead th {\n",
       "        text-align: right;\n",
       "    }\n",
       "</style>\n",
       "<table border=\"1\" class=\"dataframe\">\n",
       "  <thead>\n",
       "    <tr style=\"text-align: right;\">\n",
       "      <th></th>\n",
       "      <th>code</th>\n",
       "      <th>member</th>\n",
       "      <th>sen_member</th>\n",
       "      <th>mid_member</th>\n",
       "      <th>kid_sum</th>\n",
       "      <th>kid</th>\n",
       "      <th>privolzh</th>\n",
       "      <th>south</th>\n",
       "      <th>trans-urals</th>\n",
       "      <th>ural</th>\n",
       "      <th>hour_month</th>\n",
       "      <th>disabled</th>\n",
       "      <th>nl_income</th>\n",
       "      <th>wage_1</th>\n",
       "      <th>wage_2</th>\n",
       "      <th>wage_3</th>\n",
       "      <th>wage_4</th>\n",
       "    </tr>\n",
       "  </thead>\n",
       "  <tbody>\n",
       "  </tbody>\n",
       "</table>\n",
       "</div>"
      ],
      "text/plain": [
       "Empty DataFrame\n",
       "Columns: [code, member, sen_member, mid_member, kid_sum, kid, privolzh, south, trans-urals, ural, hour_month, disabled, nl_income, wage_1, wage_2, wage_3, wage_4]\n",
       "Index: []"
      ]
     },
     "execution_count": 322,
     "metadata": {},
     "output_type": "execute_result"
    }
   ],
   "source": [
    "final_df[final_df['wage_1'] < 0]"
   ]
  },
  {
   "cell_type": "code",
   "execution_count": 279,
   "metadata": {},
   "outputs": [
    {
     "data": {
      "text/html": [
       "<div>\n",
       "<style scoped>\n",
       "    .dataframe tbody tr th:only-of-type {\n",
       "        vertical-align: middle;\n",
       "    }\n",
       "\n",
       "    .dataframe tbody tr th {\n",
       "        vertical-align: top;\n",
       "    }\n",
       "\n",
       "    .dataframe thead th {\n",
       "        text-align: right;\n",
       "    }\n",
       "</style>\n",
       "<table border=\"1\" class=\"dataframe\">\n",
       "  <thead>\n",
       "    <tr style=\"text-align: right;\">\n",
       "      <th></th>\n",
       "      <th>wage_1</th>\n",
       "      <th>wage_2</th>\n",
       "      <th>wage_3</th>\n",
       "      <th>wage_4</th>\n",
       "    </tr>\n",
       "  </thead>\n",
       "  <tbody>\n",
       "    <tr>\n",
       "      <th>643</th>\n",
       "      <td>66.608016</td>\n",
       "      <td>67.217689</td>\n",
       "      <td>-1.020309</td>\n",
       "      <td>-0.850156</td>\n",
       "    </tr>\n",
       "    <tr>\n",
       "      <th>2009</th>\n",
       "      <td>57.154907</td>\n",
       "      <td>58.344526</td>\n",
       "      <td>-4.635913</td>\n",
       "      <td>-3.771101</td>\n",
       "    </tr>\n",
       "    <tr>\n",
       "      <th>7237</th>\n",
       "      <td>54.971314</td>\n",
       "      <td>59.051282</td>\n",
       "      <td>-6.959466</td>\n",
       "      <td>-5.073329</td>\n",
       "    </tr>\n",
       "    <tr>\n",
       "      <th>3768</th>\n",
       "      <td>54.503779</td>\n",
       "      <td>57.056393</td>\n",
       "      <td>-3.283450</td>\n",
       "      <td>-2.007872</td>\n",
       "    </tr>\n",
       "    <tr>\n",
       "      <th>4725</th>\n",
       "      <td>48.494866</td>\n",
       "      <td>49.774573</td>\n",
       "      <td>-7.245049</td>\n",
       "      <td>-6.498360</td>\n",
       "    </tr>\n",
       "    <tr>\n",
       "      <th>5631</th>\n",
       "      <td>44.041070</td>\n",
       "      <td>44.888228</td>\n",
       "      <td>-8.612843</td>\n",
       "      <td>-8.676139</td>\n",
       "    </tr>\n",
       "    <tr>\n",
       "      <th>1737</th>\n",
       "      <td>39.857926</td>\n",
       "      <td>42.057312</td>\n",
       "      <td>-11.919008</td>\n",
       "      <td>-10.660807</td>\n",
       "    </tr>\n",
       "    <tr>\n",
       "      <th>469</th>\n",
       "      <td>36.783422</td>\n",
       "      <td>38.837918</td>\n",
       "      <td>-9.679812</td>\n",
       "      <td>-8.784891</td>\n",
       "    </tr>\n",
       "    <tr>\n",
       "      <th>3586</th>\n",
       "      <td>36.783422</td>\n",
       "      <td>38.837918</td>\n",
       "      <td>-4.191353</td>\n",
       "      <td>-3.363493</td>\n",
       "    </tr>\n",
       "    <tr>\n",
       "      <th>8995</th>\n",
       "      <td>36.651346</td>\n",
       "      <td>40.923912</td>\n",
       "      <td>-20.384683</td>\n",
       "      <td>-18.603933</td>\n",
       "    </tr>\n",
       "    <tr>\n",
       "      <th>1716</th>\n",
       "      <td>34.227548</td>\n",
       "      <td>35.657089</td>\n",
       "      <td>-45.800492</td>\n",
       "      <td>-44.796311</td>\n",
       "    </tr>\n",
       "    <tr>\n",
       "      <th>2767</th>\n",
       "      <td>33.730065</td>\n",
       "      <td>34.691610</td>\n",
       "      <td>-1.196541</td>\n",
       "      <td>-1.448702</td>\n",
       "    </tr>\n",
       "    <tr>\n",
       "      <th>7181</th>\n",
       "      <td>30.392328</td>\n",
       "      <td>32.692101</td>\n",
       "      <td>-22.647154</td>\n",
       "      <td>-21.376320</td>\n",
       "    </tr>\n",
       "    <tr>\n",
       "      <th>2437</th>\n",
       "      <td>30.174898</td>\n",
       "      <td>31.647203</td>\n",
       "      <td>-6.949119</td>\n",
       "      <td>-6.475468</td>\n",
       "    </tr>\n",
       "    <tr>\n",
       "      <th>8171</th>\n",
       "      <td>28.122789</td>\n",
       "      <td>29.144078</td>\n",
       "      <td>-6.956324</td>\n",
       "      <td>-7.201703</td>\n",
       "    </tr>\n",
       "    <tr>\n",
       "      <th>8227</th>\n",
       "      <td>25.927920</td>\n",
       "      <td>27.445112</td>\n",
       "      <td>-17.581812</td>\n",
       "      <td>-17.035043</td>\n",
       "    </tr>\n",
       "    <tr>\n",
       "      <th>5197</th>\n",
       "      <td>25.109873</td>\n",
       "      <td>26.157805</td>\n",
       "      <td>-2.626840</td>\n",
       "      <td>-3.000174</td>\n",
       "    </tr>\n",
       "    <tr>\n",
       "      <th>3275</th>\n",
       "      <td>21.486613</td>\n",
       "      <td>23.050815</td>\n",
       "      <td>-22.813981</td>\n",
       "      <td>-22.261051</td>\n",
       "    </tr>\n",
       "    <tr>\n",
       "      <th>4179</th>\n",
       "      <td>21.486613</td>\n",
       "      <td>23.050815</td>\n",
       "      <td>-0.860145</td>\n",
       "      <td>-0.575457</td>\n",
       "    </tr>\n",
       "    <tr>\n",
       "      <th>5398</th>\n",
       "      <td>21.127562</td>\n",
       "      <td>23.348558</td>\n",
       "      <td>-12.710400</td>\n",
       "      <td>-11.963405</td>\n",
       "    </tr>\n",
       "    <tr>\n",
       "      <th>1232</th>\n",
       "      <td>20.722160</td>\n",
       "      <td>25.460670</td>\n",
       "      <td>-6.630560</td>\n",
       "      <td>-4.780300</td>\n",
       "    </tr>\n",
       "    <tr>\n",
       "      <th>7289</th>\n",
       "      <td>18.280032</td>\n",
       "      <td>21.917414</td>\n",
       "      <td>-14.814280</td>\n",
       "      <td>-13.939982</td>\n",
       "    </tr>\n",
       "    <tr>\n",
       "      <th>3066</th>\n",
       "      <td>17.252495</td>\n",
       "      <td>22.027402</td>\n",
       "      <td>-5.934592</td>\n",
       "      <td>-4.145750</td>\n",
       "    </tr>\n",
       "    <tr>\n",
       "      <th>1670</th>\n",
       "      <td>16.850978</td>\n",
       "      <td>18.464312</td>\n",
       "      <td>-0.691792</td>\n",
       "      <td>-0.467900</td>\n",
       "    </tr>\n",
       "    <tr>\n",
       "      <th>6636</th>\n",
       "      <td>16.850978</td>\n",
       "      <td>18.464312</td>\n",
       "      <td>-8.924480</td>\n",
       "      <td>-8.599997</td>\n",
       "    </tr>\n",
       "    <tr>\n",
       "      <th>7794</th>\n",
       "      <td>16.850978</td>\n",
       "      <td>18.464312</td>\n",
       "      <td>-0.691792</td>\n",
       "      <td>-0.467900</td>\n",
       "    </tr>\n",
       "    <tr>\n",
       "      <th>599</th>\n",
       "      <td>16.850978</td>\n",
       "      <td>18.464312</td>\n",
       "      <td>-14.412939</td>\n",
       "      <td>-14.021396</td>\n",
       "    </tr>\n",
       "    <tr>\n",
       "      <th>2192</th>\n",
       "      <td>16.850978</td>\n",
       "      <td>18.464312</td>\n",
       "      <td>-6.180251</td>\n",
       "      <td>-5.889298</td>\n",
       "    </tr>\n",
       "    <tr>\n",
       "      <th>5358</th>\n",
       "      <td>16.850978</td>\n",
       "      <td>18.464312</td>\n",
       "      <td>-11.668710</td>\n",
       "      <td>-11.310697</td>\n",
       "    </tr>\n",
       "    <tr>\n",
       "      <th>7240</th>\n",
       "      <td>16.721255</td>\n",
       "      <td>20.855095</td>\n",
       "      <td>-3.551315</td>\n",
       "      <td>-1.971241</td>\n",
       "    </tr>\n",
       "    <tr>\n",
       "      <th>...</th>\n",
       "      <td>...</td>\n",
       "      <td>...</td>\n",
       "      <td>...</td>\n",
       "      <td>...</td>\n",
       "    </tr>\n",
       "    <tr>\n",
       "      <th>4935</th>\n",
       "      <td>-84.822714</td>\n",
       "      <td>-78.784427</td>\n",
       "      <td>-65.319182</td>\n",
       "      <td>-63.705746</td>\n",
       "    </tr>\n",
       "    <tr>\n",
       "      <th>3343</th>\n",
       "      <td>-84.822714</td>\n",
       "      <td>-78.784427</td>\n",
       "      <td>-26.899969</td>\n",
       "      <td>-25.755957</td>\n",
       "    </tr>\n",
       "    <tr>\n",
       "      <th>69</th>\n",
       "      <td>-85.593523</td>\n",
       "      <td>-79.723788</td>\n",
       "      <td>-53.326649</td>\n",
       "      <td>-52.148577</td>\n",
       "    </tr>\n",
       "    <tr>\n",
       "      <th>5375</th>\n",
       "      <td>-85.593523</td>\n",
       "      <td>-79.723788</td>\n",
       "      <td>-47.838190</td>\n",
       "      <td>-46.727178</td>\n",
       "    </tr>\n",
       "    <tr>\n",
       "      <th>645</th>\n",
       "      <td>-85.593523</td>\n",
       "      <td>-79.723788</td>\n",
       "      <td>-67.047797</td>\n",
       "      <td>-65.702073</td>\n",
       "    </tr>\n",
       "    <tr>\n",
       "      <th>5845</th>\n",
       "      <td>-85.593523</td>\n",
       "      <td>-79.723788</td>\n",
       "      <td>-25.884355</td>\n",
       "      <td>-25.041584</td>\n",
       "    </tr>\n",
       "    <tr>\n",
       "      <th>1339</th>\n",
       "      <td>-85.593523</td>\n",
       "      <td>-79.723788</td>\n",
       "      <td>-75.280485</td>\n",
       "      <td>-73.834170</td>\n",
       "    </tr>\n",
       "    <tr>\n",
       "      <th>8449</th>\n",
       "      <td>-85.593523</td>\n",
       "      <td>-79.723788</td>\n",
       "      <td>-61.559338</td>\n",
       "      <td>-60.280674</td>\n",
       "    </tr>\n",
       "    <tr>\n",
       "      <th>4018</th>\n",
       "      <td>-85.593523</td>\n",
       "      <td>-79.723788</td>\n",
       "      <td>-61.559338</td>\n",
       "      <td>-60.280674</td>\n",
       "    </tr>\n",
       "    <tr>\n",
       "      <th>6990</th>\n",
       "      <td>-91.984618</td>\n",
       "      <td>-85.869604</td>\n",
       "      <td>-82.759368</td>\n",
       "      <td>-81.004201</td>\n",
       "    </tr>\n",
       "    <tr>\n",
       "      <th>6983</th>\n",
       "      <td>-91.984618</td>\n",
       "      <td>-85.869604</td>\n",
       "      <td>-55.317074</td>\n",
       "      <td>-53.897208</td>\n",
       "    </tr>\n",
       "    <tr>\n",
       "      <th>1699</th>\n",
       "      <td>-91.984618</td>\n",
       "      <td>-85.869604</td>\n",
       "      <td>-58.061303</td>\n",
       "      <td>-56.607908</td>\n",
       "    </tr>\n",
       "    <tr>\n",
       "      <th>1380</th>\n",
       "      <td>-91.984618</td>\n",
       "      <td>-85.869604</td>\n",
       "      <td>-66.293991</td>\n",
       "      <td>-64.740005</td>\n",
       "    </tr>\n",
       "    <tr>\n",
       "      <th>5830</th>\n",
       "      <td>-91.984618</td>\n",
       "      <td>-85.869604</td>\n",
       "      <td>-52.572844</td>\n",
       "      <td>-51.186509</td>\n",
       "    </tr>\n",
       "    <tr>\n",
       "      <th>444</th>\n",
       "      <td>-92.949755</td>\n",
       "      <td>-87.001171</td>\n",
       "      <td>-46.156706</td>\n",
       "      <td>-45.138570</td>\n",
       "    </tr>\n",
       "    <tr>\n",
       "      <th>413</th>\n",
       "      <td>-92.949755</td>\n",
       "      <td>-87.001171</td>\n",
       "      <td>-51.645165</td>\n",
       "      <td>-50.559969</td>\n",
       "    </tr>\n",
       "    <tr>\n",
       "      <th>4982</th>\n",
       "      <td>-92.949755</td>\n",
       "      <td>-87.001171</td>\n",
       "      <td>-65.366312</td>\n",
       "      <td>-64.113465</td>\n",
       "    </tr>\n",
       "    <tr>\n",
       "      <th>1442</th>\n",
       "      <td>-92.949755</td>\n",
       "      <td>-87.001171</td>\n",
       "      <td>-32.435558</td>\n",
       "      <td>-31.585074</td>\n",
       "    </tr>\n",
       "    <tr>\n",
       "      <th>4689</th>\n",
       "      <td>-92.949755</td>\n",
       "      <td>-87.001171</td>\n",
       "      <td>-81.831689</td>\n",
       "      <td>-80.377660</td>\n",
       "    </tr>\n",
       "    <tr>\n",
       "      <th>4257</th>\n",
       "      <td>-99.340849</td>\n",
       "      <td>-93.146988</td>\n",
       "      <td>-75.589425</td>\n",
       "      <td>-73.994194</td>\n",
       "    </tr>\n",
       "    <tr>\n",
       "      <th>2006</th>\n",
       "      <td>-99.340849</td>\n",
       "      <td>-93.146988</td>\n",
       "      <td>-64.612507</td>\n",
       "      <td>-63.151397</td>\n",
       "    </tr>\n",
       "    <tr>\n",
       "      <th>5823</th>\n",
       "      <td>-99.340849</td>\n",
       "      <td>-93.146988</td>\n",
       "      <td>-70.100966</td>\n",
       "      <td>-68.572796</td>\n",
       "    </tr>\n",
       "    <tr>\n",
       "      <th>5479</th>\n",
       "      <td>-99.599012</td>\n",
       "      <td>-94.710369</td>\n",
       "      <td>-72.026970</td>\n",
       "      <td>-71.814137</td>\n",
       "    </tr>\n",
       "    <tr>\n",
       "      <th>3051</th>\n",
       "      <td>-99.599012</td>\n",
       "      <td>-94.710369</td>\n",
       "      <td>-36.351987</td>\n",
       "      <td>-36.575047</td>\n",
       "    </tr>\n",
       "    <tr>\n",
       "      <th>8791</th>\n",
       "      <td>-110.355931</td>\n",
       "      <td>-104.876102</td>\n",
       "      <td>-55.235129</td>\n",
       "      <td>-54.654656</td>\n",
       "    </tr>\n",
       "    <tr>\n",
       "      <th>4635</th>\n",
       "      <td>-110.355931</td>\n",
       "      <td>-104.876102</td>\n",
       "      <td>-74.444735</td>\n",
       "      <td>-73.629551</td>\n",
       "    </tr>\n",
       "    <tr>\n",
       "      <th>2683</th>\n",
       "      <td>-110.355931</td>\n",
       "      <td>-104.876102</td>\n",
       "      <td>-74.444735</td>\n",
       "      <td>-73.629551</td>\n",
       "    </tr>\n",
       "    <tr>\n",
       "      <th>7590</th>\n",
       "      <td>-117.712162</td>\n",
       "      <td>-112.153485</td>\n",
       "      <td>-64.530562</td>\n",
       "      <td>-63.908845</td>\n",
       "    </tr>\n",
       "    <tr>\n",
       "      <th>2028</th>\n",
       "      <td>-117.712162</td>\n",
       "      <td>-112.153485</td>\n",
       "      <td>-86.484398</td>\n",
       "      <td>-85.594439</td>\n",
       "    </tr>\n",
       "    <tr>\n",
       "      <th>6879</th>\n",
       "      <td>-117.712162</td>\n",
       "      <td>-112.153485</td>\n",
       "      <td>-83.740169</td>\n",
       "      <td>-82.883740</td>\n",
       "    </tr>\n",
       "  </tbody>\n",
       "</table>\n",
       "<p>412 rows × 4 columns</p>\n",
       "</div>"
      ],
      "text/plain": [
       "          wage_1      wage_2     wage_3     wage_4\n",
       "643    66.608016   67.217689  -1.020309  -0.850156\n",
       "2009   57.154907   58.344526  -4.635913  -3.771101\n",
       "7237   54.971314   59.051282  -6.959466  -5.073329\n",
       "3768   54.503779   57.056393  -3.283450  -2.007872\n",
       "4725   48.494866   49.774573  -7.245049  -6.498360\n",
       "5631   44.041070   44.888228  -8.612843  -8.676139\n",
       "1737   39.857926   42.057312 -11.919008 -10.660807\n",
       "469    36.783422   38.837918  -9.679812  -8.784891\n",
       "3586   36.783422   38.837918  -4.191353  -3.363493\n",
       "8995   36.651346   40.923912 -20.384683 -18.603933\n",
       "1716   34.227548   35.657089 -45.800492 -44.796311\n",
       "2767   33.730065   34.691610  -1.196541  -1.448702\n",
       "7181   30.392328   32.692101 -22.647154 -21.376320\n",
       "2437   30.174898   31.647203  -6.949119  -6.475468\n",
       "8171   28.122789   29.144078  -6.956324  -7.201703\n",
       "8227   25.927920   27.445112 -17.581812 -17.035043\n",
       "5197   25.109873   26.157805  -2.626840  -3.000174\n",
       "3275   21.486613   23.050815 -22.813981 -22.261051\n",
       "4179   21.486613   23.050815  -0.860145  -0.575457\n",
       "5398   21.127562   23.348558 -12.710400 -11.963405\n",
       "1232   20.722160   25.460670  -6.630560  -4.780300\n",
       "7289   18.280032   21.917414 -14.814280 -13.939982\n",
       "3066   17.252495   22.027402  -5.934592  -4.145750\n",
       "1670   16.850978   18.464312  -0.691792  -0.467900\n",
       "6636   16.850978   18.464312  -8.924480  -8.599997\n",
       "7794   16.850978   18.464312  -0.691792  -0.467900\n",
       "599    16.850978   18.464312 -14.412939 -14.021396\n",
       "2192   16.850978   18.464312  -6.180251  -5.889298\n",
       "5358   16.850978   18.464312 -11.668710 -11.310697\n",
       "7240   16.721255   20.855095  -3.551315  -1.971241\n",
       "...          ...         ...        ...        ...\n",
       "4935  -84.822714  -78.784427 -65.319182 -63.705746\n",
       "3343  -84.822714  -78.784427 -26.899969 -25.755957\n",
       "69    -85.593523  -79.723788 -53.326649 -52.148577\n",
       "5375  -85.593523  -79.723788 -47.838190 -46.727178\n",
       "645   -85.593523  -79.723788 -67.047797 -65.702073\n",
       "5845  -85.593523  -79.723788 -25.884355 -25.041584\n",
       "1339  -85.593523  -79.723788 -75.280485 -73.834170\n",
       "8449  -85.593523  -79.723788 -61.559338 -60.280674\n",
       "4018  -85.593523  -79.723788 -61.559338 -60.280674\n",
       "6990  -91.984618  -85.869604 -82.759368 -81.004201\n",
       "6983  -91.984618  -85.869604 -55.317074 -53.897208\n",
       "1699  -91.984618  -85.869604 -58.061303 -56.607908\n",
       "1380  -91.984618  -85.869604 -66.293991 -64.740005\n",
       "5830  -91.984618  -85.869604 -52.572844 -51.186509\n",
       "444   -92.949755  -87.001171 -46.156706 -45.138570\n",
       "413   -92.949755  -87.001171 -51.645165 -50.559969\n",
       "4982  -92.949755  -87.001171 -65.366312 -64.113465\n",
       "1442  -92.949755  -87.001171 -32.435558 -31.585074\n",
       "4689  -92.949755  -87.001171 -81.831689 -80.377660\n",
       "4257  -99.340849  -93.146988 -75.589425 -73.994194\n",
       "2006  -99.340849  -93.146988 -64.612507 -63.151397\n",
       "5823  -99.340849  -93.146988 -70.100966 -68.572796\n",
       "5479  -99.599012  -94.710369 -72.026970 -71.814137\n",
       "3051  -99.599012  -94.710369 -36.351987 -36.575047\n",
       "8791 -110.355931 -104.876102 -55.235129 -54.654656\n",
       "4635 -110.355931 -104.876102 -74.444735 -73.629551\n",
       "2683 -110.355931 -104.876102 -74.444735 -73.629551\n",
       "7590 -117.712162 -112.153485 -64.530562 -63.908845\n",
       "2028 -117.712162 -112.153485 -86.484398 -85.594439\n",
       "6879 -117.712162 -112.153485 -83.740169 -82.883740\n",
       "\n",
       "[412 rows x 4 columns]"
      ]
     },
     "execution_count": 279,
     "metadata": {},
     "output_type": "execute_result"
    }
   ],
   "source": [
    "est_wages.sort_values('wage_1', ascending=False)[est_wages['wage_4'] < 0]"
   ]
  },
  {
   "cell_type": "code",
   "execution_count": null,
   "metadata": {},
   "outputs": [],
   "source": []
  }
 ],
 "metadata": {
  "kernelspec": {
   "display_name": "Python 3",
   "language": "python",
   "name": "python3"
  },
  "language_info": {
   "codemirror_mode": {
    "name": "ipython",
    "version": 3
   },
   "file_extension": ".py",
   "mimetype": "text/x-python",
   "name": "python",
   "nbconvert_exporter": "python",
   "pygments_lexer": "ipython3",
   "version": "3.7.3"
  }
 },
 "nbformat": 4,
 "nbformat_minor": 2
}
